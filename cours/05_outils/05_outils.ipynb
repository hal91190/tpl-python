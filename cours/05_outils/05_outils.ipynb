{
 "cells": [
  {
   "cell_type": "markdown",
   "metadata": {
    "slideshow": {
     "slide_type": "slide"
    }
   },
   "source": [
    "# Cours 5: Utiliser les fonctions et les outils pour écrire un script"
   ]
  },
  {
   "cell_type": "markdown",
   "metadata": {
    "slideshow": {
     "slide_type": "slide"
    }
   },
   "source": [
    "# 1. Programmation d'un *vrai* script\n",
    "\n",
    "On va présenter ici comment écrire un programme plus conséquent:\n",
    "\n",
    "* En le découpant en fonctions simples pour le rendre plus compréhensible\n",
    "* En documentant les fonctions\n",
    "* En utilisant les outils de débogages\n"
   ]
  },
  {
   "cell_type": "markdown",
   "metadata": {
    "slideshow": {
     "slide_type": "subslide"
    }
   },
   "source": [
    "Conseil d'utilisation des fonctions:\n",
    "\n",
    "* Une fonction effectue une tâche unique et précise. \n",
    "* Une fonction trop longue ou compliquée peut souvent être découpée en plusieurs petites fonctions qui s'apellent entre elles\n",
    "* On doit pouvoir comprendre ce que fait une fonction sans voir son code. Le choix de son nom, du nom des arguments et le docstring sont cruciaux.\n",
    "* Le nom d'une fonction comprenant plusieurs mots s'écrit en mettant une majuscule à chaque mot sauf au premier: `incrementeScore`"
   ]
  },
  {
   "cell_type": "code",
   "execution_count": null,
   "metadata": {
    "slideshow": {
     "slide_type": "subslide"
    }
   },
   "outputs": [],
   "source": [
    "def max(liste):  #calcul d'un max, exemple d'une fonction simple, redéfinition de la fonction native max\n",
    "    if len(liste) == 0:\n",
    "        return None\n",
    "    maximum = liste[0]\n",
    "    for elem in liste:\n",
    "        if maximum < elem:\n",
    "            maximum = elem\n",
    "    return maximum        \n",
    "\n",
    "max([3,1,6,9,12,0])"
   ]
  },
  {
   "cell_type": "markdown",
   "metadata": {
    "slideshow": {
     "slide_type": "subslide"
    }
   },
   "source": [
    "Les fonctions doivent permettre d'éviter la *duplication de code* autant que possible.\n",
    "\n",
    "Par exemple le code de max est correct, quel que soit le type d'élément de la liste si on a une méthode de comparaison.\n",
    "On veut faire du code modulaire: plutôt qu'implémenter plusieurs fonctions max pour des types d'éléments différents, on va faire une fonction paramétrée: l'opérateur de comparaison peut être passé en argument. \n",
    "\n",
    "*Les fonctions sont des objets comme les autres.*"
   ]
  },
  {
   "cell_type": "code",
   "execution_count": null,
   "metadata": {},
   "outputs": [],
   "source": [
    "def maxModulaire(liste, inferieur):  #calcul d'un max, exemple d'une fonction simple\n",
    "    if len(liste) == 0:\n",
    "        return None\n",
    "    maximum = liste[0]\n",
    "    for elem in liste:\n",
    "        if inferieur(maximum,elem) :\n",
    "            maximum = elem\n",
    "    return maximum        \n",
    "\n",
    "def min(liste):\n",
    "    return maxModulaire(liste, lambda x,y: x > y)\n",
    "\n",
    "print(min([3,2,6,1,9,5]))\n",
    "\n",
    "print(maxModulaire([(1,3,2),(1,5,2),(6,7,8)], lambda x, y: x[0] + x[1] - x[2] < y[0] + y[1] - y[2]))\n"
   ]
  },
  {
   "cell_type": "markdown",
   "metadata": {
    "slideshow": {
     "slide_type": "slide"
    }
   },
   "source": [
    "# 2. Écrire un code sans erreur\n",
    "\n",
    "Il est normal de faire des erreurs de programmation, particulièrement\n",
    "si le programme est long et que vous êtes débutant. Heureusement, il est possible d'en repérer une bonne partie automatiquement:\n",
    "\n",
    "* Les typos, une variable ou le nom d'une fonction est mal orthographié : linter, erreur à l'exécution\n",
    "* Les problèmes de type, typiquement application d'une fonction à un argument du mauvais type : annotation de types, erreur à l'exécution\n",
    "* Les problèmes typiques de mauvais usage du langage (variable inutiles, mauvaises comparaisons): linter, warnings\n",
    "* Des problèmes erratiques à l'exécution: debugger\n",
    "* Des problèmes de logique dans votre code : debugger, test unitaire et code certifié par un outil de vérification automatique\n",
    "* Des problèmes de performance dans votre code : profiler"
   ]
  },
  {
   "cell_type": "markdown",
   "metadata": {
    "slideshow": {
     "slide_type": "subslide"
    }
   },
   "source": [
    "La première source d'information pour corriger une erreur et le **message d'erreur** que l'interpréteur Python affiche. Il faut toujours *lire ces messages* et agir en conséquence !"
   ]
  },
  {
   "cell_type": "code",
   "execution_count": null,
   "metadata": {
    "slideshow": {
     "slide_type": "fragment"
    }
   },
   "outputs": [],
   "source": [
    "# Quelques exemples de messages d'erreur\n",
    "\n",
    "# typo dans le nom de variable\n",
    "ma_variable = 7 \n",
    "ma_varable += 2\n",
    "\n",
    "# typo dans le nom de fonction\n",
    "def maFonction():\n",
    "    pass\n",
    "\n",
    "maFoncion()\n",
    "\n",
    "# opération illégale \n",
    "\n",
    "3 // 0\n",
    "\n",
    "\n",
    "# mauvais type\n",
    "x = 2\n",
    "if (x = 2):\n",
    "    print(\"Corrigez vos erreurs\")\n",
    "\n",
    "# mauvaise indentation\n",
    "if(x > 1):\n",
    "    x +=1\n",
    "     print(\"décale moi\")"
   ]
  },
  {
   "cell_type": "markdown",
   "metadata": {
    "slideshow": {
     "slide_type": "slide"
    }
   },
   "source": [
    "# 3. Utilisation du linter\n",
    "\n",
    "Le linter détecte principalement des erreurs de style ou des oublis évidents.\n",
    "Voir la [page](https://flake8.pycqa.org/en/latest/user/error-codes.html) des erreurs détectées par **flake8**."
   ]
  },
  {
   "cell_type": "markdown",
   "metadata": {
    "slideshow": {
     "slide_type": "notes"
    }
   },
   "source": [
    "Faire tourner flake8 sur quelques exemples typiques d'erreur (fichier test_flake.py)."
   ]
  },
  {
   "cell_type": "markdown",
   "metadata": {
    "slideshow": {
     "slide_type": "slide"
    }
   },
   "source": [
    "# 4. Ajout d'anotation de type\n",
    "\n",
    "On peut spécifier le type des arguments et du retour d'une fonction quand on la définit. C'est une *annotation* de type et cela permet de typer ses programmes comme en C/C++ pour éviter certains bugs. \n",
    "Cette annotation est *facultative* et vous pouver mélanger du code annoté ou non. \n",
    "\n",
    "Il y a une erreur de type quand on applique une fonction à un élément et qu'il n'est pas\n",
    "du type attendu par la fonction."
   ]
  },
  {
   "cell_type": "code",
   "execution_count": null,
   "metadata": {
    "slideshow": {
     "slide_type": "fragment"
    }
   },
   "outputs": [],
   "source": [
    "# Code avec un problème de type pour l'opération +\n",
    "print(5 + 7)  # int + int\n",
    "print(\"salut\" + \"hello\") # str + str\n",
    "print(5 + \"hello\") #int + str   Erreur!\n",
    "\n",
    "# Problème de type pour l'opération /\n",
    "\"hello\" / 2"
   ]
  },
  {
   "cell_type": "markdown",
   "metadata": {
    "slideshow": {
     "slide_type": "subslide"
    }
   },
   "source": [
    "On ajoute des informations de type aux arguments de la fonction `monPrint`, pour spécifier que la fonction ne prend que des entiers comme argument et détecter l'erreur précédente.\n",
    "\n",
    "Les informations de type n'ont *aucun impact* à l'exécution du code.\n",
    "Pour exploiter ces informations supplémentaires, il faut utiliser un programme externe\n",
    "comme **mypy** qui est installé dans l'environnement l1-python."
   ]
  },
  {
   "cell_type": "code",
   "execution_count": null,
   "metadata": {},
   "outputs": [],
   "source": [
    "def monPrint(a : int, b: int):  #les informations de type ne changent rien à l'exécution\n",
    "    print(a + b)\n",
    "    \n",
    "mon_print(5,7)\n",
    "mon_print(\"salut\",\"hello\")\n",
    "mon_print(5,\"salut\")"
   ]
  },
  {
   "cell_type": "markdown",
   "metadata": {
    "slideshow": {
     "slide_type": "notes"
    }
   },
   "source": [
    "Faire une démonstration de mypy sur l'exemple précédent (fichier test_mypy.py et test_mypy2.py)."
   ]
  },
  {
   "cell_type": "markdown",
   "metadata": {
    "slideshow": {
     "slide_type": "slide"
    }
   },
   "source": [
    "# 5. Tests\n",
    "\n",
    "\n",
    "Le plus simple des méchanismes qu'on peut utiliser pour garantir la correction du code est d'utiliser des `assert`. Cette construction est suivie d'une condition et si la condition est fausse, le code s'arrête avec une erreur.\n",
    "Le message d'erreur est paramétrable, il suffit de le mettre à la suite de la condition, séparé par une virgule."
   ]
  },
  {
   "cell_type": "code",
   "execution_count": null,
   "metadata": {
    "slideshow": {
     "slide_type": "fragment"
    }
   },
   "outputs": [],
   "source": [
    "def max(liste):  #calcul d'un max, on suppose que la liste est non vide\n",
    "    assert len(liste) != 0\n",
    "    maximum = liste[0]\n",
    "    for elem in liste:\n",
    "        if maximum < elem:\n",
    "            maximum = elem\n",
    "    return maximum  \n",
    "\n",
    "print(max([1,2,3,9]))\n",
    "max([])"
   ]
  },
  {
   "cell_type": "code",
   "execution_count": null,
   "metadata": {
    "slideshow": {
     "slide_type": "subslide"
    }
   },
   "outputs": [],
   "source": [
    "def max(liste):  # calcul d'un max, on suppose que la liste est non vide et les valeurs sont positives\n",
    "    maximum = 0\n",
    "    for elem in liste:\n",
    "        assert elem >= 0, \"Un élément négatif\" # assert avec un message d'erreur\n",
    "        if maximum < elem:\n",
    "            maximum = elem\n",
    "    return maximum  \n",
    "\n",
    "print(max([1, 2, 3, 9]))\n",
    "max([1, 3, 4, -2, 3])"
   ]
  },
  {
   "cell_type": "code",
   "execution_count": null,
   "metadata": {},
   "outputs": [],
   "source": [
    "#exemple de code satisfaisant et commenté\n",
    "\n",
    "def maxModulaire(liste, inferieur):  \n",
    "    \"\"\"Fonction calculant le maximum de liste qui doit être non vide, en utilisant la fonction de comparaison inferieur.\\n Si le maximum est répété, renvoie le premier qui a été détecté \"\"\"\n",
    "    assert len(liste) != 0, \"Pas possible de calculer un maximum dans une liste vide\"\n",
    "    maximum = liste[0] # initialise le maximum au premier élément de liste qui existe car la liste est non vide\n",
    "    for elem in liste:\n",
    "        if inferieur(maximum, elem):\n",
    "            maximum = elem\n",
    "    return maximum  \n",
    "\n",
    "help(maxModulaire)"
   ]
  },
  {
   "cell_type": "markdown",
   "metadata": {
    "slideshow": {
     "slide_type": "slide"
    }
   },
   "source": [
    "On peut également utiliser des tests unitaires (hors programme pour la L1). \n",
    "\n",
    "Il s'agit de tester toutes ses fonctions sur un exemple pour s'assurer de leur fonctionnement.\n",
    "Le module `unittest` contient des outils pour ce faire.\n",
    "\n"
   ]
  },
  {
   "cell_type": "markdown",
   "metadata": {
    "slideshow": {
     "slide_type": "notes"
    }
   },
   "source": [
    "Voir le fichier test_unittest.py pour un exemple."
   ]
  },
  {
   "cell_type": "markdown",
   "metadata": {},
   "source": [
    "# 6. Utilisation d'un debugger\n",
    "\n",
    "Si votre code a un comportement que vous ne comprenez pas, le mieux est d'utiliser un debugger.\n",
    "Vous pouvez alors l'exécuter pas à pas pour repérer à quel moment quelque chose que vous n'avez pas\n",
    "prévu se produit. \n",
    "\n",
    "Pour exécuter le debugger dans VSCode, il suffit d'appuyer sur F5. Avant de lancer le debugger, assurez vous\n",
    "d'avoir cliqué à gauche d'une ligne de votre code. Un point rouge apparaît, c'est un **breakpoint**, l'exécution\n",
    "de votre code s'arrêtera quand il atteindra cette ligne. \n",
    "\n",
    "\n"
   ]
  },
  {
   "cell_type": "code",
   "execution_count": null,
   "metadata": {
    "slideshow": {
     "slide_type": "notes"
    }
   },
   "outputs": [],
   "source": [
    "Tester le debugger sur les fichiers test_debugger.py et test_debugger2.py."
   ]
  }
 ],
 "metadata": {
  "celltoolbar": "Diaporama",
  "kernelspec": {
   "display_name": "Python 3",
   "language": "python",
   "name": "python3"
  },
  "language_info": {
   "codemirror_mode": {
    "name": "ipython",
    "version": 3
   },
   "file_extension": ".py",
   "mimetype": "text/x-python",
   "name": "python",
   "nbconvert_exporter": "python",
   "pygments_lexer": "ipython3",
   "version": "3.8.3"
  }
 },
 "nbformat": 4,
 "nbformat_minor": 4
}
