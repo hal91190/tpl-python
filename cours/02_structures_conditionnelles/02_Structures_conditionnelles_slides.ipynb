{
 "cells": [
  {
   "cell_type": "markdown",
   "metadata": {
    "slideshow": {
     "slide_type": "slide"
    }
   },
   "source": [
    "# Les structures conditionnelles"
   ]
  },
  {
   "cell_type": "markdown",
   "metadata": {
    "slideshow": {
     "slide_type": "slide"
    }
   },
   "source": [
    "---\n",
    "## Structures conditionnelles\n",
    "\n",
    "Il arrive fréquemment que nous voulions exécuter certaines instructions dans un cas spécifique, et d'autres instructions dans d’autres cas. \n",
    "\n",
    "Exemple :\n",
    "    \n",
    "**Si** le solde bancaire est insuffisant **alors**  \n",
    "&nbsp;&nbsp;&nbsp;&nbsp;&nbsp; rejeter la transaction \n",
    "\n",
    "Les instructions conditionnelles contrôlent quelle partie du code est exécutée en fonction de **certaines conditions.**"
   ]
  },
  {
   "cell_type": "markdown",
   "metadata": {
    "slideshow": {
     "slide_type": "slide"
    }
   },
   "source": [
    "Trois formes de structures conditionnelles : \n",
    "- **if** \n",
    "- **if...else** \n",
    "- **if...elif...else**"
   ]
  },
  {
   "cell_type": "markdown",
   "metadata": {
    "slideshow": {
     "slide_type": "notes"
    }
   },
   "source": [
    "Notons que, jusqu'à présent, les différentes instructions saisies sont toutes exécutées d'une manière linéaire (consécutive). Avec les structures conditionnelles, il sera possible de sauter des instructions dans le cas où certaines conditions ne seraient pas satisfaites."
   ]
  },
  {
   "cell_type": "markdown",
   "metadata": {
    "slideshow": {
     "slide_type": "slide"
    }
   },
   "source": [
    "### L'instruction if  \n",
    "\n",
    "**Si** une condition est vérifiée, **alors** appliquez la mesure adaptée. \n",
    "\n",
    "Exemples :\n",
    "\n",
    "- **S**'il fait froid, **alors** portez des vêtements chauds ;\n",
    "- **Si** vous avez un test demain, **alors** révisez le cours ;\n",
    "- **Si** vous êtes végétarien, **alors** commandez des légumes."
   ]
  },
  {
   "cell_type": "markdown",
   "metadata": {
    "slideshow": {
     "slide_type": "notes"
    }
   },
   "source": [
    "Chacun de ces éléments est facilement formulé en termes d'énoncé *si - alors*. Vous vérifiez si une condition est vraie, et si oui, vous prenez des mesures. La mesure à prendre (ou l'action) pourrait, en effet, être plurielles avec plusieurs actions. Vous pouvez imaginer, par exemple, que s'il fait froid à l'extérieur, vous portez des vêtements plus chauds, vous démarrez la voiture tôt pour que le moteur chauffe et vous vous préparez une boisson chaude."
   ]
  },
  {
   "cell_type": "markdown",
   "metadata": {
    "slideshow": {
     "slide_type": "slide"
    }
   },
   "source": [
    "**! La mesure à prendre (ou l'action) pourrait être plurielles avec plusieurs actions.**\n",
    "\n",
    "Exemple: \n",
    "                           \n",
    "- **S**'il fait froid à l'extérieur, **alors**  \n",
    "&nbsp;&nbsp;&nbsp;&nbsp;&nbsp; portez des vêtements plus chauds,   \n",
    "&nbsp;&nbsp;&nbsp;&nbsp;&nbsp; démarrez la voiture tôt pour que le moteur chauffe   \n",
    "&nbsp;&nbsp;&nbsp;&nbsp;&nbsp; et préparez-vous une boisson chaude."
   ]
  },
  {
   "cell_type": "markdown",
   "metadata": {
    "slideshow": {
     "slide_type": "notes"
    }
   },
   "source": [
    "Passons maintenant à la pratique ! Nous voulons écrire un code qui fera une recommandation à un utilisateur pour choisir ses vêtements. Une partie de ce raisonnement consistera à recevoir la météo du jour sous forme d'une chaîne de caractères qui sera stockée dans la variable *meteo*. Notre code affichera les vêtements adaptés à la météo."
   ]
  },
  {
   "cell_type": "markdown",
   "metadata": {
    "slideshow": {
     "slide_type": "slide"
    }
   },
   "source": [
    "Exemple : "
   ]
  },
  {
   "cell_type": "code",
   "execution_count": null,
   "metadata": {
    "slideshow": {
     "slide_type": "fragment"
    },
    "tags": []
   },
   "outputs": [],
   "source": [
    "meteo = \"pluie\" \n",
    "if meteo == \"pluie\" : # vérifie si la variable meteo possède \"pluie\" comme valeur ou non\n",
    "    # si égalité alors afficher le message \"parapluie\"\n",
    "    print(\"parapluie\")\n",
    "    # si égalité alors afficher le message \"impermeable\"\n",
    "    print(\"impermeable\")\n",
    "print(\"Bonne journée !\") # afficher le message \"Bonne journée\" comme fin de ce code"
   ]
  },
  {
   "cell_type": "markdown",
   "metadata": {
    "slideshow": {
     "slide_type": "fragment"
    }
   },
   "source": [
    "- Ligne 2 : l'opérateur **==** permet de vérifier si la variable *meteo* est égale à *pluie*. \n",
    "    * Cas d'égalité $\\rightarrow$ affichage de *parapluie* et *impermeable*.\n",
    "- Ligne 7 : affiche le message \"*Bonne journée !*\"."
   ]
  },
  {
   "cell_type": "markdown",
   "metadata": {
    "slideshow": {
     "slide_type": "slide"
    }
   },
   "source": [
    "### Syntaxe de la structure conditionnelle if\n",
    "\n",
    "**if** *condition* **:**  \n",
    "&nbsp;&nbsp; *action 1*     \n",
    "&nbsp;&nbsp; *action 2*  \n",
    "&nbsp;&nbsp; *...*  \n",
    "&nbsp;&nbsp; *action n*\n",
    "\n",
    "1. Mot clé **if**, suivi d'un espace  \n",
    "2. La **condition** \n",
    "3. Nous terminons la ligne par un **deux-points (:)** \n",
    "4. Une ou plusieurs actions **indentées**"
   ]
  },
  {
   "cell_type": "markdown",
   "metadata": {
    "slideshow": {
     "slide_type": "slide"
    }
   },
   "source": [
    "### Notions importantes\n",
    "\n",
    "- **Bloc d'instructions :** Une série d'instructions qui s'exécute dans un cas précis."
   ]
  },
  {
   "cell_type": "markdown",
   "metadata": {
    "slideshow": {
     "slide_type": "notes"
    }
   },
   "source": [
    "Dans notre exemple, le bloc d'instructions est composé de deux instructions d'affichage en utilisant la fonction print() (les lignes 4 et 6)."
   ]
  },
  {
   "cell_type": "code",
   "execution_count": null,
   "metadata": {
    "slideshow": {
     "slide_type": "fragment"
    }
   },
   "outputs": [],
   "source": [
    "meteo = \"pluie\" \n",
    "if meteo == \"pluie\" : # vérifie si la variable weather possède \"raining\" comme valeur ou non\n",
    "    # si égalité alors affiche le message \"parapluie\"\n",
    "    print(\"parapluie\")\n",
    "    # si égalité alors affiche le message \"imperméable\"\n",
    "    print(\"imperméable\")\n",
    "print(\"Bonne journée!\") # affiche le message \"Bonne journée!\" comme fin de ce code"
   ]
  },
  {
   "cell_type": "markdown",
   "metadata": {
    "slideshow": {
     "slide_type": "fragment"
    }
   },
   "source": [
    "- **Indentation** : Un décalage vers la droite permettant d'identifier où se trouvent le début et la fin d'un bloc d'instructions.  "
   ]
  },
  {
   "cell_type": "markdown",
   "metadata": {
    "slideshow": {
     "slide_type": "notes"
    }
   },
   "source": [
    "Les indentations sont essentielles pour que l'interpréteur puisse identifier où se trouvent le début et la fin d'un bloc d'instructions. Dans notre exemple, les lignes 4 et 6 sont indentées ce qui signifie qu'elles sont *sous* ou *contrôlées* par la condition de la ligne 2. Autrement dit, les deux instructions seront exécutées si la condition est vraie. Ainsi, les instructions indentées définissent le code qui s'exécute si la condition est vraie."
   ]
  },
  {
   "cell_type": "markdown",
   "metadata": {
    "slideshow": {
     "slide_type": "slide"
    }
   },
   "source": [
    "Si nous remplaçons la valeur actuelle de la variable *meteo* par *froid*, que se passe-t-il ?"
   ]
  },
  {
   "cell_type": "code",
   "execution_count": null,
   "metadata": {
    "slideshow": {
     "slide_type": "fragment"
    },
    "tags": []
   },
   "outputs": [],
   "source": [
    "meteo = \"froid\"  \n",
    "if meteo == \"pluie\" :  \n",
    "    print(\"parapluie\")        \n",
    "    print(\"impermeable\")  \n",
    "print(\"Bonne journée !\")  "
   ]
  },
  {
   "cell_type": "markdown",
   "metadata": {
    "slideshow": {
     "slide_type": "fragment"
    }
   },
   "source": [
    "- La condition est *False* $\\rightarrow$ *parapluie* et *impermeable* ne sont pas affichés !  \n",
    "\n",
    "- Le message \"*Bonne journée !*\" s'affiche toujours $\\rightarrow$  non-indenté sous la condition."
   ]
  },
  {
   "cell_type": "markdown",
   "metadata": {
    "slideshow": {
     "slide_type": "notes"
    }
   },
   "source": [
    "Notez que tout ce qui est directement indenté sous la déclaration conditionnelle (ligne 2) sera contrôlé par cette condition. Voilà pourquoi la ligne 4 est toujours contrôlée par la condition de la ligne 2 : elle est également indentée. C'est aussi pourquoi la ligne 5 n'est pas contrôlée par la condition : elle n'est pas indentée. Ainsi, même lorsque la condition de la ligne 2 est fausse, la ligne 5 s'exécute toujours car elle n'est pas indentée sous la ligne 2."
   ]
  },
  {
   "cell_type": "markdown",
   "metadata": {
    "slideshow": {
     "slide_type": "slide"
    }
   },
   "source": [
    "### L'instruction : if - else\n",
    "\n",
    "Considérons le cas où il ne pleut pas et que nous souhaitons recommander un *t-shirt* et des *shorts*. Comment devons-nous procéder ?\n",
    "\n",
    "**!** Nous ajoutons un bloc **else**, et sous le bloc **else**, nous plaçons les lignes de code pour afficher les messages *t-shirt* et *shorts*."
   ]
  },
  {
   "cell_type": "code",
   "execution_count": null,
   "metadata": {
    "slideshow": {
     "slide_type": "fragment"
    },
    "tags": []
   },
   "outputs": [],
   "source": [
    "meteo = \"froid\" \n",
    "if meteo == \"pluie\": #  vérifie si la variable meteo possède \"pluie\" comme valeur ou non \n",
    "    print(\"parapluie\")        \n",
    "    print(\"impermeable\")\n",
    "else:  # si meteo ne possède pas la valeur \"pluie\" alors affiche ce qui suit\n",
    "    print(\"t-shirt\")  \n",
    "    print(\"shorts\") \n",
    "print(\"Bonne journée !\")  "
   ]
  },
  {
   "cell_type": "markdown",
   "metadata": {
    "slideshow": {
     "slide_type": "fragment"
    }
   },
   "source": [
    "- La condition est *False* $\\rightarrow$ le bloc d'instructions indenté sous la condition ne s'exécute pas. \n",
    "- La condition est *False*  $\\rightarrow$ le bloc d'instructions indenté sous le **else** s'exécute et affiche *t-shirt* et *shorts*."
   ]
  },
  {
   "cell_type": "markdown",
   "metadata": {
    "slideshow": {
     "slide_type": "slide"
    }
   },
   "source": [
    "Si nous remplaçons la valeur de *meteo* par *pluie*, que se passe t-il ?"
   ]
  },
  {
   "cell_type": "code",
   "execution_count": null,
   "metadata": {
    "slideshow": {
     "slide_type": "fragment"
    },
    "tags": []
   },
   "outputs": [],
   "source": [
    "meteo = \"pluie\" \n",
    "if meteo == \"pluie\" : \n",
    "    print(\"parapluie\") \n",
    "    print(\"impermeable\") \n",
    "else : \n",
    "    print(\"t-shirt\") \n",
    "    print(\"shorts\") \n",
    "print(\"Bonne journée !\") "
   ]
  },
  {
   "cell_type": "markdown",
   "metadata": {
    "slideshow": {
     "slide_type": "fragment"
    }
   },
   "source": [
    "- Le bloc d'instructions sous l'instruction **if** s'exécute ! \n",
    "- Le bloc d'instructions sous l'instruction **else** ne s'exécute pas !\n",
    "- Le message \"*Bonne journée!*\" s'affiche $\\rightarrow$ non indenté !"
   ]
  },
  {
   "cell_type": "markdown",
   "metadata": {
    "slideshow": {
     "slide_type": "slide"
    }
   },
   "source": [
    "### Syntaxe de else \n",
    "\n",
    "**if** *condition* **:**  \n",
    "&nbsp;&nbsp; *instruction(s)*     \n",
    "**else** **:**  \n",
    "&nbsp;&nbsp; *instruction(s)*    \n",
    "\n",
    "**À retenir :**  \n",
    "- Le mot clé **else** doit être au même niveau d'indentation que l'instruction **if** qu'elle complète.\n",
    "- Le code de bloc **else** s'exécute si le code de bloc **if** ne s'exécute pas.\n",
    "- **else** doit également être suivi de **deux points (:)**."
   ]
  },
  {
   "cell_type": "markdown",
   "metadata": {
    "slideshow": {
     "slide_type": "slide"
    }
   },
   "source": [
    "### L'instruction elif\n",
    "\n",
    "Exemple : "
   ]
  },
  {
   "cell_type": "code",
   "execution_count": null,
   "metadata": {
    "slideshow": {
     "slide_type": "fragment"
    },
    "tags": []
   },
   "outputs": [],
   "source": [
    "meteo = \"froid\"\n",
    "if meteo == \"pluie\" : #  vérifie si meteo a \"pluie\" comme valeur ou non \n",
    "    print(\"parapluie\")  \n",
    "    print(\"impermeable\")  \n",
    "elif meteo == \"froid\" : #  sinon vérifie si meteo a \"froid\" comme valeur ou non \n",
    "    print(\"pull\")   \n",
    "    print(\"echarpe\")  \n",
    "else : #  si meteo ne vaut ni \"pluie\" ni \"froid\" alors afficher ce qui suit\n",
    "    print(\"t-shirt\")  \n",
    "    print(\"shorts\")  \n",
    "print(\"Bonne journée !\")  "
   ]
  },
  {
   "cell_type": "markdown",
   "metadata": {
    "slideshow": {
     "slide_type": "fragment"
    }
   },
   "source": [
    "- Le bloc d'instructions de **if** est ignoré. \n",
    "- Le bloc d'instructions indenté sous **elif** est exécuté."
   ]
  },
  {
   "cell_type": "markdown",
   "metadata": {
    "slideshow": {
     "slide_type": "slide"
    }
   },
   "source": [
    "**À retenir :**  \n",
    "- Une fois que l'une des parties du code **if-elif-else** a été exécutée, l'interpréteur ne vérifie plus le reste. \n",
    "- Dès le début, l'interpréteur passe à la première condition *True* qu'il rencontre, exécute son bloc d'instructions \n",
    "et ignore le reste.  "
   ]
  },
  {
   "cell_type": "markdown",
   "metadata": {
    "slideshow": {
     "slide_type": "slide"
    }
   },
   "source": [
    "### Syntaxe de elif\n",
    "\n",
    "**if** *condition* **:**  \n",
    "&nbsp;&nbsp; *action(s)*  \n",
    "**elif** *condition* **:**   \n",
    "&nbsp;&nbsp; *action(s)*  \n",
    "**else** **:**  \n",
    "&nbsp;&nbsp; *action(s)*   \n",
    "\n",
    "**À retenir :**  \n",
    "- Le mot clé **elif** doit être au même niveau d'indentation que l'instruction **if** qu'elle complète.\n",
    "- **elif** doit également être suivi d'une **condition** et de **deux points (:)**."
   ]
  },
  {
   "cell_type": "markdown",
   "metadata": {
    "slideshow": {
     "slide_type": "slide"
    }
   },
   "source": [
    "### Remarques :\n",
    "\n",
    "- Il est possible de mettre autant de **elif** que l'on souhaite après une condition **if**.\n",
    "- Les instructions **elif** et **else** sont facultatives : lorsqu'une instruction en **if** ou **elif** est définie, il n'est pas obligatoire de prévoir un **else** après.\n",
    "- L'instruction **else** ne peut figurer qu'une seule fois en clôture du bloc de la condition **if**."
   ]
  },
  {
   "cell_type": "markdown",
   "metadata": {
    "slideshow": {
     "slide_type": "slide"
    }
   },
   "source": [
    "Exécutons maintenant le code suivant. Que constatez-vous ?"
   ]
  },
  {
   "cell_type": "code",
   "execution_count": null,
   "metadata": {
    "slideshow": {
     "slide_type": "fragment"
    }
   },
   "outputs": [],
   "source": [
    "meteo = \"froid\" \n",
    "if meteo == \"froid\" : #  vérifie si meteo a \"froid\" comme valeur ou non \n",
    "    print(\"echarpe\") \n",
    "print(\"Bonne journée !\") \n",
    "elif meteo == \"froid\" or meteo == \"venteux\" : # sinon vérifie si meteo vaut \"froid\" ou \"venteux\" \n",
    "    print(\"manteau\") \n",
    "print(\"Bonne journée !\") \n",
    "else : # sinon affiche ce qui suit\n",
    "    print(\"t-shirt\")\n",
    "print(\"Bonne journée !\") "
   ]
  },
  {
   "cell_type": "markdown",
   "metadata": {
    "slideshow": {
     "slide_type": "fragment"
    }
   },
   "source": [
    "Pourquoi ?\n",
    "\n",
    "**Erreur de type SyntaxError** : Entre le **elif** et le **if**, il y a une ligne au même niveau d'indentation que le **if** $\\rightarrow$ Arrêt du bloc de **if** !"
   ]
  },
  {
   "cell_type": "markdown",
   "metadata": {
    "slideshow": {
     "slide_type": "notes"
    }
   },
   "source": [
    "Si on regarde bien le code, entre le **elif** à la ligne 5 et le **if** à la ligne 2, il y a une ligne (ligne 4) au même niveau d'indentation que le **if**. Cela arrête le bloc de code du **if** définit à la ligne 2.\n",
    "\n",
    "Le **elif** à la ligne 5 doit suivre un **if**; ou plus précisément, doit suivre immédiatement le bloc de code indenté qui suit un **if**. Ceci indique que l'instruction **elif** de la ligne 5 n'a pas de correspondance **if** parce que la ligne 4 a stoppé le bloc de code du **if**. La même chose se produit sur la ligne 7 avant le **else**, qui doit de même suivre directement un bloc **if** ou **elif**."
   ]
  },
  {
   "cell_type": "markdown",
   "metadata": {
    "slideshow": {
     "slide_type": "slide"
    }
   },
   "source": [
    "Complétez les lignes 6 et 7 du code suivant pour que le code affiche la suggestion de restaurant *Pizza Hut!* si vous avez envie de pizza. Quelle instruction parmi les suivantes est la plus adaptée ?\n",
    "* *else envie == \"pizza\":* \n",
    "* *else:* \n",
    "* *elif envie == \"pizza\":*  "
   ]
  },
  {
   "cell_type": "code",
   "execution_count": null,
   "metadata": {
    "slideshow": {
     "slide_type": "fragment"
    }
   },
   "outputs": [],
   "source": [
    "envie = \"pizza\"\n",
    "if envie == \"tacos\":\n",
    "    print(\"Takorea!\")\n",
    "elif envie == \"sushi\":\n",
    "    print(\"Satto!\")\n",
    "#(line 6) Completez cette ligne.\n",
    "#(line 7) Completez cette ligne."
   ]
  },
  {
   "cell_type": "markdown",
   "metadata": {
    "slideshow": {
     "slide_type": "notes"
    }
   },
   "source": [
    "**Solution :**"
   ]
  },
  {
   "cell_type": "code",
   "execution_count": null,
   "metadata": {
    "slideshow": {
     "slide_type": "notes"
    }
   },
   "outputs": [],
   "source": [
    "envie = \"pizza\"\n",
    "if envie == \"tacos\":\n",
    "    print(\"Go to Takorea!\")\n",
    "elif envie == \"sushi\":\n",
    "    print(\"Go to Satto!\")\n",
    "elif envie == \"pizza\":\n",
    "    print(\"Go to Pizza Hut!\")"
   ]
  },
  {
   "cell_type": "markdown",
   "metadata": {
    "slideshow": {
     "slide_type": "slide"
    }
   },
   "source": [
    "**Attention à l'ordre des structures conditionnelles (exemple 1):**"
   ]
  },
  {
   "cell_type": "code",
   "execution_count": null,
   "metadata": {
    "slideshow": {
     "slide_type": "fragment"
    }
   },
   "outputs": [],
   "source": [
    "meteo = \"froid\"\n",
    "if meteo == \"pluie\" :  \n",
    "    print(\"parapluie\")  \n",
    "    print(\"impermeable\")  \n",
    "elif meteo == \"froid\" : \n",
    "    print(\"manteau\")   \n",
    "    print(\"echarpe\")  \n",
    "else : \n",
    "    print(\"t-shirt\")  \n",
    "    print(\"shorts\")  \n",
    "print(\"Bonne journée !\")"
   ]
  },
  {
   "cell_type": "markdown",
   "metadata": {
    "slideshow": {
     "slide_type": "slide"
    }
   },
   "source": [
    "**Attention à l'ordre des structures conditionnelles (exemple 2):**"
   ]
  },
  {
   "cell_type": "code",
   "execution_count": null,
   "metadata": {
    "slideshow": {
     "slide_type": "fragment"
    }
   },
   "outputs": [],
   "source": [
    "meteo = \"froid\"\n",
    "if meteo == \"pluie\" : \n",
    "    print(\"parapluie\")  \n",
    "    print(\"impermeable\")  \n",
    "else :\n",
    "    print(\"t-shirt\")  \n",
    "    print(\"shorts\") \n",
    "if meteo == \"froid\" : \n",
    "    print(\"manteau\")   \n",
    "    print(\"echarpe\") \n",
    "print(\"Bonne journée !\")"
   ]
  },
  {
   "cell_type": "markdown",
   "metadata": {
    "slideshow": {
     "slide_type": "slide"
    }
   },
   "source": [
    "## Les structures conditionnelles et les opérateurs de comparaison\n",
    "### Les opérateurs relationnels\n",
    "|   Opérateurs   |              Significations           |\n",
    "|----------------|---------------------------------------|\n",
    "|      <         |          Strictement inférieur à      |\n",
    "|      >         |          Strictement supérieur à      |\n",
    "|      <=        |            Inférieur ou égal à        |\n",
    "|      >=        |            Supérieur ou égal à        |\n",
    "|      ==        |                    Égal à             |\n",
    "|      !=        |                 Différent de          |\n",
    "\n",
    "Exemple:  **a>= b** renvoie **True** si *a* est supérieur ou égal à *b*, **False** sinon. "
   ]
  },
  {
   "cell_type": "markdown",
   "metadata": {
    "slideshow": {
     "slide_type": "notes"
    }
   },
   "source": [
    "Puisque les opérateurs relationnels retournent **True** ou **False**, nous pouvons les utiliser dans des instructions conditionnelles."
   ]
  },
  {
   "cell_type": "markdown",
   "metadata": {
    "slideshow": {
     "slide_type": "slide"
    }
   },
   "source": [
    "Ecrivons un code qui permet de comparer le solde bancaire du client au prix d'achat taxe comprise. "
   ]
  },
  {
   "cell_type": "code",
   "execution_count": null,
   "metadata": {
    "slideshow": {
     "slide_type": "fragment"
    },
    "tags": []
   },
   "outputs": [],
   "source": [
    "solde = 20.0\n",
    "prix_achat_hors_taxe = 19.0\n",
    "taxe = 1.08\n",
    "\n",
    "if solde >= prix_achat_hors_taxe * taxe : # comparer le solde bancaire du client au prix d'achat taxe comprise\n",
    "    print(\"Transcation possible\")\n",
    "else:\n",
    "    print(\"Transaction impossible\")\n",
    "print(\"Fin\")"
   ]
  },
  {
   "cell_type": "markdown",
   "metadata": {
    "slideshow": {
     "slide_type": "fragment"
    }
   },
   "source": [
    " L'interpréteur multiplie *prix_achat_hors_taxe* par *taxe* avant de vérifier l'opérateur relationnel **>=**."
   ]
  },
  {
   "cell_type": "markdown",
   "metadata": {
    "slideshow": {
     "slide_type": "notes"
    }
   },
   "source": [
    "Nous avons créé une variable *salesTax* et lui avons affecter la valeur de 1.08. Ensuite, dans la structure conditionnelle **if**, nous multiplions *purchasePrice* par *salesTax*. L'interpréteur le fait automatiquement avant de vérifier l'opérateur relationnel **>=**. De cette façon, nous pouvons utiliser des opérateurs mathématiques dans des instructions conditionnelles. Le résultat de la comparaison est **False**, et donc le code exécute le bloc d'instructions sous le **else**. Le message *Finished!* sera aussi affiché comme il n'est pas indenté sous le **else**."
   ]
  },
  {
   "cell_type": "markdown",
   "metadata": {
    "slideshow": {
     "slide_type": "slide"
    }
   },
   "source": [
    "### Les opérateurs logiques (booléens): not, and, or   \n",
    "\n",
    "- L'opérateur **not** fait passer une valeur de faux à vrai, ou inversement.\n",
    "\n",
    "|   a    |  not a  |\n",
    "|--------|---------|\n",
    "|  True  |  False  |\n",
    "|  False |  True   |\n",
    "\n"
   ]
  },
  {
   "cell_type": "markdown",
   "metadata": {
    "slideshow": {
     "slide_type": "slide"
    }
   },
   "source": [
    "- L'opérateur **and** retourne vrai si et seulement si les deux opérandes sont vraies. \n",
    "\n",
    "|   a    |    b    |  a and b  |\n",
    "|--------|---------|-----------|\n",
    "|  False |  False  |   False   |\n",
    "|  False |  True   |   False   |\n",
    "|  True  |  False  |   False   |\n",
    "|  True  |  True   |   True    |"
   ]
  },
  {
   "cell_type": "markdown",
   "metadata": {
    "slideshow": {
     "slide_type": "slide"
    }
   },
   "source": [
    " - L'opérateur **or** retourne vrai si au moins l'un des opérandes est vraie.\n",
    "\n",
    "|   a    |    b    |  a or b  |\n",
    "|--------|---------|-----------|\n",
    "|  False |  False  |   False   |\n",
    "|  False |  True   |   True    |\n",
    "|  True  |  False  |   True    |\n",
    "|  True  |  True   |   True    |"
   ]
  },
  {
   "cell_type": "markdown",
   "metadata": {
    "slideshow": {
     "slide_type": "slide"
    }
   },
   "source": [
    "Exemple : "
   ]
  },
  {
   "cell_type": "code",
   "execution_count": null,
   "metadata": {
    "slideshow": {
     "slide_type": "fragment"
    },
    "tags": []
   },
   "outputs": [],
   "source": [
    "meteo = \"froid\"  \n",
    "if meteo == \"froid\" or meteo ==\"venteux\" : # vérifie si meteo est froid ou bien venteux. \n",
    "    print(\"manteau\")  \n",
    "print(\"Fin\")  "
   ]
  },
  {
   "cell_type": "markdown",
   "metadata": {
    "slideshow": {
     "slide_type": "fragment"
    }
   },
   "source": [
    "**Notez la syntaxe :**  Pour vérifier si l'un ou l'autre est vrai, on met simplement le mot **or** entre les deux expressions logiques. \n",
    "\n",
    "* *meteo == \"froid\"* $\\rightarrow$ *True*\n",
    "* *meteo ==\"venteux\"* $\\rightarrow$ *False*\n",
    "* *True or False* $\\rightarrow$ *True*"
   ]
  },
  {
   "cell_type": "markdown",
   "metadata": {
    "slideshow": {
     "slide_type": "slide"
    }
   },
   "source": [
    "**Évaluation paresseuse des expressions booléennes avec *and* et *or* :**\n",
    "    \n",
    "Les expressions qui ne doivent pas être évaluées pour déterminer le résultat ne sont pas évaluées. \n",
    "\n",
    "* L'expression *x* **and** *y* **évalue d'abord *x***; si *x* vaut *False*, sa valeur est renvoyée et *y* n'est pas évaluée; sinon, la variable *y* est évaluée et la valeur résultante est renvoyée.\n",
    "\n",
    "* L'expression *x* **or** *y* **évalue d'abord *x***; si *x* vaut *True*, sa valeur est renvoyée et *y* n'est pas évaluée; sinon, la variable *y* est évaluée et la valeur résultante est renvoyée.\n",
    "\n",
    "**Les opérateurs *and* et *or* ne sont pas symétriques.**"
   ]
  },
  {
   "cell_type": "markdown",
   "metadata": {
    "slideshow": {
     "slide_type": "slide"
    }
   },
   "source": [
    "Exemples avec l'opérateur *and* :"
   ]
  },
  {
   "cell_type": "code",
   "execution_count": null,
   "metadata": {
    "slideshow": {
     "slide_type": "fragment"
    }
   },
   "outputs": [],
   "source": [
    "x = 0\n",
    "if x != 0 and 2 // x == 2 :\n",
    "    print(\"Testing lazy evaluation\")\n",
    "print(\"Fin\")"
   ]
  },
  {
   "cell_type": "code",
   "execution_count": null,
   "metadata": {
    "slideshow": {
     "slide_type": "fragment"
    }
   },
   "outputs": [],
   "source": [
    "x = 0\n",
    "if 2 // x == 2 and x != 0:\n",
    "    print(\"Test de l'évaluation paresseuse.\")\n",
    "print(\"Fin\")"
   ]
  },
  {
   "cell_type": "markdown",
   "metadata": {
    "slideshow": {
     "slide_type": "slide"
    }
   },
   "source": [
    "Exemples avec l'opérateur *or* :"
   ]
  },
  {
   "cell_type": "code",
   "execution_count": null,
   "metadata": {
    "slideshow": {
     "slide_type": "fragment"
    }
   },
   "outputs": [],
   "source": [
    "x = 0\n",
    "if x == 0 or 2 // x == 2:\n",
    "    print(\"Test de l'évaluation paresseuse.\")\n",
    "print(\"Fin\")"
   ]
  },
  {
   "cell_type": "code",
   "execution_count": null,
   "metadata": {
    "slideshow": {
     "slide_type": "fragment"
    }
   },
   "outputs": [],
   "source": [
    "x = 0\n",
    "if 2 // x == 2 or x == 0:\n",
    "    print(\"Test de l'évaluation paresseuse.\")\n",
    "print(\"Fin\")"
   ]
  },
  {
   "cell_type": "markdown",
   "metadata": {
    "slideshow": {
     "slide_type": "slide"
    }
   },
   "source": [
    "Est-ce qu'il y a quelque chose de surprenant dans la déclaration conditionnelle **if** de ce code ?"
   ]
  },
  {
   "cell_type": "code",
   "execution_count": null,
   "metadata": {
    "slideshow": {
     "slide_type": "fragment"
    },
    "tags": []
   },
   "outputs": [],
   "source": [
    "solde = 20.0\n",
    "taxe = 1.08\n",
    "nom_detenteur_carte = \"Daniel Dupont\"\n",
    "vendeurs_de_confiance = [\"Maria's\", \"Jonh's\", \"Emilie's\", \"Tia's\"]\n",
    "\n",
    "prix_achat_hors_taxes = 19.0\n",
    "nom_client = \"Daniel Dupont\"\n",
    "vendeur = \"Tia's\"\n",
    "decouvert_autorise = True # si True alors le client pourra dépenser plus que son solde disponible \n",
    "if (solde > prix_achat_hors_taxes * taxe or decouvert_autorise) \\\n",
    "        and nom_detenteur_carte == nom_client and vendeur in vendeurs_de_confiance :  \n",
    "    print(\"Transaction approuvée\")\n",
    "else:\n",
    "    print(\"Transaction non approuvée\")\n",
    "print(\"Fin\")"
   ]
  },
  {
   "cell_type": "markdown",
   "metadata": {
    "slideshow": {
     "slide_type": "fragment"
    }
   },
   "source": [
    "La **barre oblique(\\\\)** indique à l'interpréteur de *copier la ligne suivante et de la placer à l'emplacement de cette barre oblique.*  \n",
    "$\\rightarrow$ Séparer le code entre deux lignes le rend plus lisible ! "
   ]
  },
  {
   "cell_type": "markdown",
   "metadata": {
    "slideshow": {
     "slide_type": "notes"
    }
   },
   "source": [
    "Notez qu'à la ligne 9, nous avons ajouté une variable nommée *decouvert_autorise* qui, si elle est *True*, permettra au client de dépenser plus que son solde disponible et de rembourser plus tard. Donc, dans ce cas, dans notre structure conditionnelle, nous avons un **or** imbriqué. L'interpréteur doit évaluer si le solde est suffisant (*True*) ou si *decouvert_autorise* est *True*. Si l'un ou l'autre est vrai, alors la première partie de la condition est vraie.\n",
    "\n",
    "Notez que nous mettons des parenthèses autour de cette expression **or** sur la ligne 10 pour forcer l'interpréteur à l'évaluer en premier. Il est toujours préférable d’utiliser des parenthèses pour plus de lisibilité et pour indiquer clairement l'ordre dans lequel les éléments doivent être évalués."
   ]
  },
  {
   "cell_type": "markdown",
   "metadata": {
    "slideshow": {
     "slide_type": "slide"
    }
   },
   "source": [
    "**Priorité des opérateurs dans l'ordre décroissant :**\n",
    "\n",
    "|        Opérateurs    | \n",
    "|----------------------|\n",
    "|            ()        | \n",
    "|            **        |  \n",
    "|     *, /, //, %      |\n",
    "|           +, -       |\n",
    "| ==, !=, <, >, <=, => |\n",
    "|            not       |\n",
    "|            and       |\n",
    "|            or        |\n"
   ]
  },
  {
   "cell_type": "markdown",
   "metadata": {
    "slideshow": {
     "slide_type": "slide"
    }
   },
   "source": [
    "Quel est le résultat du code suivant ?"
   ]
  },
  {
   "cell_type": "code",
   "execution_count": null,
   "metadata": {
    "slideshow": {
     "slide_type": "fragment"
    },
    "tags": []
   },
   "outputs": [],
   "source": [
    "solde = 20.0\n",
    "taxe = 1.08\n",
    "nom_detenteur_carte = \"Daniel Dupont\"\n",
    "vendeurs_de_confiance = [\"Maria's\", \"Jonh's\", \"Emilie's\", \"Tia's\"]\n",
    "\n",
    "prix_achat_hors_taxes = 19.0\n",
    "nom_client = \"Daniel Dupont\"\n",
    "vendeur = \"Freddy's\"\n",
    "\n",
    "decouvert_autorise = True\n",
    "#line 10\n",
    "if (solde <= prix_achat_hors_taxes * taxe and not decouvert_autorise) :\n",
    "    print(\"Transaction non approuvée : solde insuffisant ou pas de découvert autorisé\")\n",
    "else:\n",
    "    if not nom_detenteur_carte == nom_client :\n",
    "        print(\"Transaction non approuvée : client non valide\")\n",
    "    else:\n",
    "        if not vendeur in vendeurs_de_confiance :  \n",
    "            print(\"Transaction non approuvée : vendeur non autorisé\")\n",
    "        else:\n",
    "            print(\"Transaction approuvée\")\n",
    "print(\"Fin\")"
   ]
  },
  {
   "cell_type": "markdown",
   "metadata": {
    "slideshow": {
     "slide_type": "slide"
    }
   },
   "source": [
    "## La portée des variables \n",
    "\n",
    "On appelle **portée d'une variable** l'ensemble des endroits du programme où elle existe. \n",
    "\n",
    "En Python, la portée d'une variable (ou **scope**) commence lorsqu'elle est créée et se termine lorsque \n",
    "l'une des nombreuses terminaisons se produit (par exemple la fin du programme ou l'utilisation des **fonctions**)."
   ]
  },
  {
   "cell_type": "markdown",
   "metadata": {
    "slideshow": {
     "slide_type": "slide"
    }
   },
   "source": [
    "Prenons cet exemple de code maintenant :"
   ]
  },
  {
   "cell_type": "code",
   "execution_count": null,
   "metadata": {
    "slideshow": {
     "slide_type": "fragment"
    },
    "tags": []
   },
   "outputs": [],
   "source": [
    "num1 = 1\n",
    "num2 = 2 \n",
    "resultat = \"result non connu\"\n",
    "if num1 < num2 : \n",
    "    resultat = \"num2 est plus grand que num1!\" \n",
    "print(resultat)\n",
    "print(\"Fin\")"
   ]
  },
  {
   "cell_type": "markdown",
   "metadata": {
    "slideshow": {
     "slide_type": "fragment"
    }
   },
   "source": [
    "- La variable *resultat* est créée en dehors de la structure conditionnelle. \n",
    "- La portée de *resultat* est de la ligne 3 jusqu'à ce que le programme se termine. \n",
    "- La ligne 5 est dans la portée de la variable *resultat*. "
   ]
  },
  {
   "cell_type": "markdown",
   "metadata": {
    "slideshow": {
     "slide_type": "slide"
    }
   },
   "source": [
    "Considérons maintenant le code suivant où nous allons créer une variable dans le bloc d'instructions de la structure **if**. Que se passe-t-il ?"
   ]
  },
  {
   "cell_type": "code",
   "execution_count": null,
   "metadata": {
    "slideshow": {
     "slide_type": "fragment"
    },
    "tags": []
   },
   "outputs": [],
   "source": [
    "num1 = 2\n",
    "num2 = 1 \n",
    "if num1 < num2 : \n",
    "    resultat_comparaison = \"num2 est plus grand que num1!\" \n",
    "print(resultat_comparaison)\n",
    "print(\"Fin\")"
   ]
  },
  {
   "cell_type": "markdown",
   "metadata": {
    "slideshow": {
     "slide_type": "fragment"
    }
   },
   "source": [
    "$\\rightarrow$ Erreur de type **NameError: name 'resultat_comparaison' is not defined**.  \n",
    "\n",
    "Le bloc de **if** comprenant la variable *resultat_comparaison* n'a pas été exécuté puisque la condition **if** n'a pas été satisfaite. Ainsi la variable *resultat_comparaison* n'est pas accessible en dehors de la structure **if**.  \n",
    "\n",
    "**Ne jamais créer des variables à l'intérieur des structures conditionnelles qui devront être accessibles en dehors de ces structures.**"
   ]
  },
  {
   "cell_type": "markdown",
   "metadata": {
    "slideshow": {
     "slide_type": "slide"
    }
   },
   "source": [
    "**Questions :**\n",
    "* Quel est le résultat de ce code ?"
   ]
  },
  {
   "cell_type": "code",
   "execution_count": null,
   "metadata": {
    "slideshow": {
     "slide_type": "fragment"
    }
   },
   "outputs": [],
   "source": [
    "age = 17\n",
    "if age >= 18 : \n",
    "    print(\"J'ai droit de voter!\")\n",
    "if age >= 12 and age <= 19 : \n",
    "    print(\"Je suis un adolescent!\")"
   ]
  },
  {
   "cell_type": "markdown",
   "metadata": {
    "slideshow": {
     "slide_type": "slide"
    }
   },
   "source": [
    "* Quel est le résultat de ce code ?"
   ]
  },
  {
   "cell_type": "code",
   "execution_count": null,
   "metadata": {
    "slideshow": {
     "slide_type": "fragment"
    }
   },
   "outputs": [],
   "source": [
    "acceptes = [\"Marie\", \"Leo\", \"Kenza\", \"Gabriel\"]\n",
    "liste_attente = [\"Lucie\", \"Dris\", \"Emma\"]\n",
    "mon_nom = \"Lena\"\n",
    "if mon_nom in acceptes:\n",
    "    print(\"Bienvenu(e) à l'UVSQ !\")\n",
    "else:\n",
    "    if mon_nom in liste_attente:\n",
    "        print(\"Vous êtes sur liste d'attente. Bonne chance !\")\n",
    "    else:\n",
    "        print(\"Votre candidature n'a pas été acceptée.\")"
   ]
  },
  {
   "cell_type": "markdown",
   "metadata": {
    "slideshow": {
     "slide_type": "slide"
    }
   },
   "source": [
    "* Quelle ligne dans le code ci-dessous provoquera une erreur ?  "
   ]
  },
  {
   "cell_type": "code",
   "execution_count": null,
   "metadata": {
    "slideshow": {
     "slide_type": "fragment"
    }
   },
   "outputs": [],
   "source": [
    "mon_age = 17\n",
    "if mon_age >= 18:\n",
    "    status_vote = True\n",
    "print(status_vote)"
   ]
  },
  {
   "cell_type": "markdown",
   "metadata": {
    "slideshow": {
     "slide_type": "slide"
    }
   },
   "source": [
    "Y a-t'il une différence en les deux codes suivants?"
   ]
  },
  {
   "cell_type": "code",
   "execution_count": null,
   "metadata": {
    "slideshow": {
     "slide_type": "fragment"
    }
   },
   "outputs": [],
   "source": [
    "n = int(input(\"choisir un nombre: \"))\n",
    "if n % 2 == 0:\n",
    "    n = 3 * n - 1\n",
    "else: \n",
    "    n = 2 * n\n",
    "print(n)"
   ]
  },
  {
   "cell_type": "code",
   "execution_count": null,
   "metadata": {
    "slideshow": {
     "slide_type": "fragment"
    }
   },
   "outputs": [],
   "source": [
    "n = int(input(\"choisir un nombre: \"))\n",
    "if n % 2 == 0:\n",
    "    n = 3 * n - 1\n",
    "if n % 2 == 1:\n",
    "    n = 2 * n\n",
    "print(n)"
   ]
  },
  {
   "cell_type": "code",
   "execution_count": null,
   "metadata": {},
   "outputs": [],
   "source": []
  }
 ],
 "metadata": {
  "celltoolbar": "Diaporama",
  "kernelspec": {
   "display_name": "Python 3",
   "language": "python",
   "name": "python3"
  },
  "language_info": {
   "codemirror_mode": {
    "name": "ipython",
    "version": 3
   },
   "file_extension": ".py",
   "mimetype": "text/x-python",
   "name": "python",
   "nbconvert_exporter": "python",
   "pygments_lexer": "ipython3",
   "version": "3.7.6"
  }
 },
 "nbformat": 4,
 "nbformat_minor": 4
}
