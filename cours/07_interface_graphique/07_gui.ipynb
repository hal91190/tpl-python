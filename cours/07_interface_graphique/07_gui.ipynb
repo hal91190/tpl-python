{
 "cells": [
  {
   "cell_type": "markdown",
   "metadata": {
    "slideshow": {
     "slide_type": "slide"
    }
   },
   "source": [
    "# Cours 7 : interface graphique avec tkinter\n",
    "\n",
    "**GUI = graphical user interface**"
   ]
  },
  {
   "cell_type": "markdown",
   "metadata": {
    "slideshow": {
     "slide_type": "slide"
    }
   },
   "source": [
    "## 1. Généralités sur la programmation avec tkinter\n",
    "---\n",
    "\n",
    "*tkinter = tk interface* \n",
    "\n",
    "*tk = tool kit* est une bibliothèque d'interface graphique commune à différents langages de programmation.\n",
    "\n",
    "tkinter est installé avec Python. Il existe d'autres librairies graphiques comme *pygame*.\n",
    "\n",
    "**Sites de référence:**\n",
    "\n",
    "[Tutoriel simple en français](https://openclassrooms.com/fr/courses/235344-apprenez-a-programmer-en-python/234859-creez-des-interfaces-graphiques-avec-tkinter)\n",
    "\n",
    "[Tutoriel plus avancé en français](https://vincent.developpez.com/cours-tutoriels/python/tkinter/apprendre-creer-interface-graphique-tkinter-python-3/#LI)\n",
    "\n",
    "[Pour retrouver rapidement des informations sur tkinter](http://tkinter.fdex.eu/) (site très utile!)\n",
    "\n",
    "[La documentation officielle de Python](https://docs.python.org/fr/3/library/tkinter.html)"
   ]
  },
  {
   "cell_type": "markdown",
   "metadata": {
    "slideshow": {
     "slide_type": "subslide"
    }
   },
   "source": [
    "**Eléments d'une interface graphique (aussi appelé IHM = interface homme machine)**\n",
    "\n",
    "---\n",
    "\n",
    "* fenêtre graphique\n",
    "\n",
    "* *widgets* (window gadget): objets graphiques permettant à l'utilisateur d'intéragir avec un programme Python de manière conviviale:\n",
    "\n",
    "    * affichage de texte ou d'image\n",
    "    * boutons\n",
    "    * champs de saisie\n",
    "    * barre de défilement (aussi appelé ascenseur)\n",
    "    * espace de dessin (canevas), etc.\n",
    "\n",
    "    \n",
    "* gestionnaire d'événements:\n",
    "    * déplacement ou clic de souris\n",
    "    * appui sur une touche du clavier\n",
    "\n",
    "Chaque widget est contenu dans un autre widget, sauf la *fenêtre racine* qui correspond à la fenêtre principale."
   ]
  },
  {
   "cell_type": "markdown",
   "metadata": {
    "slideshow": {
     "slide_type": "subslide"
    }
   },
   "source": [
    "**Elements d'un programme minimal**\n",
    "\n",
    "---\n",
    "\n",
    "* importer la librairie *tkinter* abrégée en `tk`:\n",
    "```python\n",
    "import tkinter as tk\n",
    "```\n",
    "\n",
    "* la fonction de la librairie tkinter `Tk()` créée la fenêtre racine. La valeur retournée par la fonction doit être affecté à une variable pour pouvoir manipuler la fenêtre racine (ajouter des widgets, mettre à jour l'affichage...)\n",
    "\n",
    "* méthode `.mainloop()` associée à la fenêtre racine qui permet de démarrer le gestionnaire d'événements et de mettre à jour l'affichage. Elle est  toujours placée à la fin du programme (on verra pourquoi plus tard)."
   ]
  },
  {
   "cell_type": "code",
   "execution_count": null,
   "metadata": {
    "slideshow": {
     "slide_type": "fragment"
    }
   },
   "outputs": [],
   "source": [
    "import tkinter as tk\n",
    "\n",
    "\n",
    "racine = tk.Tk() # Création de la fenêtre racine\n",
    "racine.mainloop() # Lancement de la boucle principale"
   ]
  },
  {
   "cell_type": "markdown",
   "metadata": {
    "slideshow": {
     "slide_type": "-"
    }
   },
   "source": [
    "La fenêtre possède une barre de titre (*tk* par défaut), et un espace gris. \n",
    "\n",
    "Elle peut être redimensionnée ou fermée avec la souris comme n'importe quelle fenêtre de votre environnement graphique."
   ]
  },
  {
   "cell_type": "markdown",
   "metadata": {
    "slideshow": {
     "slide_type": "subslide"
    }
   },
   "source": [
    "**Créer un widget**\n",
    "\n",
    "--- \n",
    "\n",
    "Syntaxe globale:\n",
    "```python\n",
    "ma_variable = UnWidget(widget_parent, parametre=\"une_valeur\")\n",
    "```\n",
    "* `ma_variable` est le nom choisi pour référencer le widget \n",
    "* `UnWidget()` est la fonction qui créée le widget, par exemple:\n",
    "    * `Label()`: affichage de texte\n",
    "    * `Button()`: bouton à cliquer\n",
    "    * `Canvas()`: canevas pour dessiner des objets\n",
    "* `widget_parent` est le nom du widget qui va contenir celui qu'on créée\n",
    "    * en général ce sera le widget racine pour des petites applications\n",
    "    * c'est le premier paramètre de la fonction qui créé le widget\n",
    "* les paramètres vont dépendre du widget. Ils sont souvent très nombreux, et on les utilise via leur nom et non pas leur position (sauf pour le widget parent).\n",
    "* dans le cours, on ne manipulera qu'une partie minime de la librairie.\n",
    "\n",
    "\n",
    "\n"
   ]
  },
  {
   "cell_type": "markdown",
   "metadata": {
    "slideshow": {
     "slide_type": "subslide"
    }
   },
   "source": [
    "**Exemple**\n",
    "\n",
    "---\n"
   ]
  },
  {
   "cell_type": "code",
   "execution_count": null,
   "metadata": {
    "slideshow": {
     "slide_type": "-"
    }
   },
   "outputs": [],
   "source": [
    "import tkinter as tk\n",
    "\n",
    "racine = tk.Tk() # Création de la fenêtre racine\n",
    "racine.title(\"Un premier exemple\") # ajoute un titre\n",
    "label = tk.Label(racine, text=\"Un texte dans ma fenêtre\", font=(\"helvetica\", \"20\")) # création du widget\n",
    "label.grid() # positionnement du widget\n",
    "racine.mainloop() # Lancement de la boucle principale"
   ]
  },
  {
   "cell_type": "markdown",
   "metadata": {
    "slideshow": {
     "slide_type": "fragment"
    }
   },
   "source": [
    "En plus de la création du widget, il faut le positionner pour qu'il s'affiche. C'est le rôle de la méthode `.grid()`.\n",
    "\n",
    "On a également ajouté un titre à la fenêtre."
   ]
  },
  {
   "cell_type": "markdown",
   "metadata": {
    "slideshow": {
     "slide_type": "slide"
    }
   },
   "source": [
    "## 2. Positionnement des widgets\n",
    "\n",
    "---\n",
    "\n",
    "\n",
    "La librairie tkinter propose trois gestionnaires de position:\n",
    "* `.pack()`\n",
    "* `.place()`\n",
    "* `.grid()`: celui que nous utiliserons\n",
    "\n"
   ]
  },
  {
   "cell_type": "markdown",
   "metadata": {
    "slideshow": {
     "slide_type": "subslide"
    }
   },
   "source": [
    "**Méthode `.grid()`**\n",
    "\n",
    "---\n",
    "\n",
    "Ce gestionnaire place le widget dans une case du widget parent qui est divisé en lignes et colonnes:\n",
    "\n",
    "![](grid.png)\n"
   ]
  },
  {
   "cell_type": "code",
   "execution_count": null,
   "metadata": {
    "slideshow": {
     "slide_type": "subslide"
    }
   },
   "outputs": [],
   "source": [
    "import tkinter as tk\n",
    "\n",
    "racine = tk.Tk() # Création de la fenêtre racine\n",
    "label1 = tk.Label(racine, text=\"Un texte long dans ma fenêtre\", font = (\"helvetica\", \"30\")) # création d'un widget\n",
    "label2 = tk.Label(racine, text=\"toto\", font = (\"helvetica\", \"30\")) # création d'un widget\n",
    "label1.grid(column=0, row=0) # positionnement du premier widget\n",
    "label2.grid(row=1, column=0) # positionnement du premier widget\n",
    "racine.mainloop() # Lancement de la boucle principale"
   ]
  },
  {
   "cell_type": "markdown",
   "metadata": {
    "slideshow": {
     "slide_type": "fragment"
    }
   },
   "source": [
    "Noter que les colonnes croissent de gauche à droite, et les lignes croissent de haut en bas.\n",
    "\n",
    "L'ensemble des paramètres associés à cette méthode sont [décrits ici](http://tkinter.fdex.eu/doc/gp.html)."
   ]
  },
  {
   "cell_type": "markdown",
   "metadata": {
    "slideshow": {
     "slide_type": "notes"
    }
   },
   "source": [
    "Tester différentes valeurs de colonnes et lignes."
   ]
  },
  {
   "cell_type": "markdown",
   "metadata": {
    "slideshow": {
     "slide_type": "subslide"
    }
   },
   "source": [
    "**Ajouter des marges**\n",
    "\n",
    "---\n",
    "\n",
    "Avec les paramètres `padx` et `pady`."
   ]
  },
  {
   "cell_type": "code",
   "execution_count": null,
   "metadata": {
    "slideshow": {
     "slide_type": "-"
    }
   },
   "outputs": [],
   "source": [
    "import tkinter as tk\n",
    "\n",
    "racine = tk.Tk() # Création de la fenêtre racine\n",
    "label1 = tk.Label(racine, text=\"Un texte long dans ma fenêtre\", font = (\"helvetica\", \"30\")) # création d'un widget\n",
    "label2 = tk.Label(racine, text=\"toto\",font = (\"helvetica\", \"30\")) # création d'un widget\n",
    "label1.grid(column=0, row=0, padx=50) # positionnement du premier widget\n",
    "label2.grid(column=0, row=1, pady=10) # positionnement du premier widget\n",
    "racine.mainloop() # Lancement de la boucle principale"
   ]
  },
  {
   "cell_type": "markdown",
   "metadata": {
    "slideshow": {
     "slide_type": "fragment"
    }
   },
   "source": [
    "Noter que, par défaut, le widget est centré verticalement et horizontalement à l'intérieur de sa case.\n",
    "\n",
    " Par défaut, l'unité utilisée est le pixel. Pour changer l'unité, écrire, par exemple\n",
    "```python\n",
    "padx=\"10cm\"\n",
    "```\n",
    "\n",
    "La marge peut être directement ajoutée à la création du widget par\n",
    "```python\n",
    "label2 = tk.Label(racine, text=\"toto\", padx=10)\n",
    "```"
   ]
  },
  {
   "cell_type": "markdown",
   "metadata": {
    "slideshow": {
     "slide_type": "subslide"
    }
   },
   "source": [
    "**Exercice**\n",
    "\n",
    "---\n",
    "Ecrire le programme qui affiche la fenêtre suivante qui comporte 8 labels. Ici les labels sont mis en relief pour mieux les distinguer mais on ne demande pas de le faire. Votre solution doit être la plus proche possible de ce qui s'affiche. La police utilisée est `(\"helvetica\", \"26\")`.\n",
    "\n",
    "\n",
    "![](exo.png)"
   ]
  },
  {
   "cell_type": "code",
   "execution_count": null,
   "metadata": {},
   "outputs": [],
   "source": []
  },
  {
   "cell_type": "markdown",
   "metadata": {
    "slideshow": {
     "slide_type": "slide"
    }
   },
   "source": [
    "## 3. Widgets Label et Button\n",
    "\n",
    "---\n",
    "\n",
    "Paramètres de choix de couleurs:\n",
    "* `fg` (ou `foreground`): couleur du texte\n",
    "* `bg` (ou `background`): couleur du fond\n",
    "\n",
    "Exemples de noms de couleurs:\n",
    "* white\n",
    "* black\n",
    "* red\n",
    "* green\n",
    "* blue\n",
    "* cyan\n",
    "* yellow\n",
    "\n",
    "On verra plus tard comment construire nos propres couleurs."
   ]
  },
  {
   "cell_type": "code",
   "execution_count": null,
   "metadata": {
    "slideshow": {
     "slide_type": "subslide"
    }
   },
   "outputs": [],
   "source": [
    "import tkinter as tk\n",
    "import random as rd\n",
    "\n",
    "couleurs = [\"red\", \"green\", \"blue\", \"cyan\", \"yellow\"]\n",
    "couleur_fond = rd.choice(couleurs)\n",
    "couleurs.remove(couleur_fond)\n",
    "couleur_texte = rd.choice(couleurs)\n",
    "\n",
    "racine = tk.Tk() # Création de la fenêtre racine\n",
    "\n",
    "label = tk.Label(racine, bg=couleur_fond, fg=couleur_texte,\n",
    "                 text=\"couleur texte: \" + couleur_texte + \"\\ncouleur fond: \" + couleur_fond,\n",
    "                 padx=20, pady=20, borderwidth=5, relief=\"groove\",\n",
    "                 font = (\"helvetica\", \"30\") \n",
    "                )\n",
    "label.grid() # positionnement du premier widget\n",
    "\n",
    "racine.mainloop() # Lancement de la boucle principale"
   ]
  },
  {
   "cell_type": "markdown",
   "metadata": {
    "slideshow": {
     "slide_type": "subslide"
    }
   },
   "source": [
    "**Modifier un paramètre d'un widget**\n",
    "\n",
    "---\n",
    "Avec la méthode `.config()`\n",
    "```python\n",
    "widget.config(param=new_value)\n",
    "```"
   ]
  },
  {
   "cell_type": "code",
   "execution_count": null,
   "metadata": {
    "slideshow": {
     "slide_type": "fragment"
    }
   },
   "outputs": [],
   "source": [
    "import tkinter as tk\n",
    "\n",
    "racine = tk.Tk() # Création de la fenêtre racine\n",
    "label = tk.Label(racine, text=\"Un texte long dans ma fenêtre\", font = (\"helvetica\", \"30\")) # création d'un widget\n",
    "label.config(text=\"autre texte\", bg=\"blue\") # modification des paramètres du widget\n",
    "label.grid() \n",
    "racine.mainloop() # Lancement de la boucle principale"
   ]
  },
  {
   "cell_type": "markdown",
   "metadata": {
    "slideshow": {
     "slide_type": "subslide"
    }
   },
   "source": [
    "**Exemple avec un widget Button**\n",
    "\n",
    "---"
   ]
  },
  {
   "cell_type": "code",
   "execution_count": null,
   "metadata": {
    "slideshow": {
     "slide_type": "-"
    }
   },
   "outputs": [],
   "source": [
    "import tkinter as tk\n",
    "\n",
    "def affichage():\n",
    "    \"\"\" Modifie le texte d'un label. \"\"\"\n",
    "    global cpt\n",
    "    cpt += 1\n",
    "    label.config(text=\"tu as cliqué \" + str(cpt)+ \" fois\")\n",
    "\n",
    "cpt = 0\n",
    "racine = tk.Tk() # Création de la fenêtre racine\n",
    "label = tk.Label(racine, text=\"texte avant de cliquer sur le bouton\",\n",
    "                  padx=20, pady=20, font = (\"helvetica\", \"30\") \n",
    "                )\n",
    "label.grid(row=0, column=0)\n",
    "bouton = tk.Button(racine, text=\"Un bouton sur lequel cliquer\", \n",
    "                    command=affichage, font = (\"helvetica\", \"30\") \n",
    "                  ) # création du widget\n",
    "bouton.grid(row=1, column=0) # positionnement du widget\n",
    "racine.mainloop() # Lancement de la boucle principale"
   ]
  },
  {
   "cell_type": "markdown",
   "metadata": {
    "slideshow": {
     "slide_type": "-"
    }
   },
   "source": [
    "**Rappel:** l'instruction `global cpt` permet de modifier la variable globale à l'intérieur de la fonction."
   ]
  },
  {
   "cell_type": "markdown",
   "metadata": {
    "slideshow": {
     "slide_type": "subslide"
    }
   },
   "source": [
    "**Argument `command`**\n",
    "\n",
    "---\n",
    "\n",
    "Cet argument permet d'appeler une fonction quand on clique sur le bouton.\n",
    "```python\n",
    "bouton = tk.Button(racine, text=\"Un bouton sur lequel cliquer\", command=affichage)\n",
    "```\n",
    "La fonction est appelée *sans paramètres*. On appelle cela une fonction *callback*.\n",
    "\n",
    "Pour pouvoir utiliser des paramètres malgré tout, on peut utiliser une *fonction anonyme* de la manière suivante:\n",
    "```python\n",
    "command=lambda : f(x, y, z)\n",
    "```\n",
    "où `x, y` et `z` sont les arguments à passer à la fonction `f`.\n",
    "\n",
    "\n",
    "\n"
   ]
  },
  {
   "cell_type": "code",
   "execution_count": null,
   "metadata": {
    "slideshow": {
     "slide_type": "subslide"
    }
   },
   "outputs": [],
   "source": [
    "import tkinter as tk\n",
    "\n",
    "def affichage(texte):\n",
    "    \"\"\" Modifie le texte d'un label. \"\"\"\n",
    "    label.config(text=texte)\n",
    "\n",
    "racine = tk.Tk() # Création de la fenêtre racine\n",
    "label = tk.Label(racine, text=\"\", padx=20, pady=20, font = (\"helvetica\", \"30\"))\n",
    "label.grid(row=0, column=0, columnspan=2)\n",
    "bouton1 = tk.Button(racine, text=\"affichage 1\", command=lambda : affichage(\"ils sont fous ces romains\"),\n",
    "                     font = (\"helvetica\", \"30\")\n",
    "                   ) \n",
    "bouton1.grid(row=1, column=0) \n",
    "bouton2 = tk.Button(racine, text=\"affichage 2\", \n",
    "                    command=lambda : affichage(\"quand lama faché, lui toujours faire ainsi\"),\n",
    "                    font = (\"helvetica\", \"30\") \n",
    "                   )\n",
    "bouton2.grid(row=1, column=1) \n",
    "racine.mainloop() # Lancement de la boucle principale"
   ]
  },
  {
   "cell_type": "markdown",
   "metadata": {
    "slideshow": {
     "slide_type": "fragment"
    }
   },
   "source": [
    "**Remarque:** l'argument `columnspan=2` permet de couvrir 2 colonnes de la grille dans l'appel à la méthode `label.grid()`."
   ]
  },
  {
   "cell_type": "markdown",
   "metadata": {
    "slideshow": {
     "slide_type": "subslide"
    }
   },
   "source": [
    "**Exercice**\n",
    "\n",
    "---\n",
    "Reprendre l'exercice précédent, à savoir le dessin de la fenêtre suivante:\n",
    "\n",
    "![](exo.png)\n",
    "\n",
    "Maintenant les textes `choisir une valeur...` et `calculer` doivent être des boutons.\n",
    "\n",
    "* quand on clique sur `choisir une valeur...`, l'utilisateur doit entrer une valeur pour l'opérande de droite ou de gauche, et le nombre affiché doit être modifié en conséquence.\n",
    "\n",
    "* quand on clique sur `calculer`, le résultat de la somme doit s'afficher"
   ]
  },
  {
   "cell_type": "markdown",
   "metadata": {
    "slideshow": {
     "slide_type": "slide"
    }
   },
   "source": [
    "## 4. Widget Canvas\n",
    "\n",
    "--- \n",
    "\n",
    "Widget qui permet de dessiner des formes telles que des lignes, des cercles... et de les animer. Il est utile pour créer des jeux.\n"
   ]
  },
  {
   "cell_type": "code",
   "execution_count": null,
   "metadata": {
    "slideshow": {
     "slide_type": "-"
    }
   },
   "outputs": [],
   "source": [
    "import tkinter as tk\n",
    "\n",
    "\n",
    "racine = tk.Tk() # Création de la fenêtre racine\n",
    "canvas = tk.Canvas(racine, bg=\"red\", height=500, width=500)\n",
    "canvas.grid()\n",
    "racine.mainloop() # Lancement de la boucle principale"
   ]
  },
  {
   "cell_type": "markdown",
   "metadata": {
    "slideshow": {
     "slide_type": "subslide"
    }
   },
   "source": [
    "**Dessiner des objets dans un canevas: la ligne brisée**\n",
    "\n",
    "---"
   ]
  },
  {
   "cell_type": "code",
   "execution_count": null,
   "metadata": {
    "slideshow": {
     "slide_type": "-"
    }
   },
   "outputs": [],
   "source": [
    "import tkinter as tk\n",
    "\n",
    "HEIGHT = 500\n",
    "WIDTH = 500\n",
    "\n",
    "racine = tk.Tk() # Création de la fenêtre racine\n",
    "canvas = tk.Canvas(racine, bg=\"red\", height=HEIGHT, width=WIDTH)\n",
    "canvas.grid()\n",
    "canvas.create_line((0, 0), (WIDTH/2, HEIGHT/2), (WIDTH, 0), fill=\"blue\", width=5)\n",
    "racine.mainloop() # Lancement de la boucle principale"
   ]
  },
  {
   "cell_type": "markdown",
   "metadata": {
    "slideshow": {
     "slide_type": "fragment"
    }
   },
   "source": [
    "**Remarques:**\n",
    "* les parenthèses autour des coordonnées `(x, y)` sont facultatives, mais rendent le code plus lisible\n",
    "* l'axe des $x$ va de gauche à droite, et celui des $y$ va de haut en bas\n",
    "* les variables `WIDTH` et `HEIGHT` jouent le rôle de constantes, et sont écrites en majuscules"
   ]
  },
  {
   "cell_type": "markdown",
   "metadata": {
    "slideshow": {
     "slide_type": "subslide"
    }
   },
   "source": [
    "**Dessiner des objets dans un canevas: l'ellipse**\n",
    "\n",
    "---\n"
   ]
  },
  {
   "cell_type": "code",
   "execution_count": null,
   "metadata": {
    "slideshow": {
     "slide_type": "-"
    }
   },
   "outputs": [],
   "source": [
    "import tkinter as tk\n",
    "\n",
    "HEIGHT = 500\n",
    "WIDTH = 500\n",
    "\n",
    "racine = tk.Tk() # Création de la fenêtre racine\n",
    "canvas = tk.Canvas(racine, bg=\"red\", height=HEIGHT, width=WIDTH)\n",
    "canvas.grid()\n",
    "canvas.create_oval((100, 100), (300, 300), fill=\"blue\", width=5, outline=\"cyan\")\n",
    "canvas.create_rectangle((100, 100), (400, 300))\n",
    "racine.mainloop() # Lancement de la boucle principale"
   ]
  },
  {
   "cell_type": "markdown",
   "metadata": {
    "slideshow": {
     "slide_type": "fragment"
    }
   },
   "source": [
    "**Remarque:** l'appel à\n",
    "```python\n",
    "canvas.create_oval((x0, y0), (x1, y1))\n",
    "```\n",
    "dessine l'ellipse inscrite dans le rectangle aux côtés horizontaux et verticaux ayant pour sommets opposés les points de coordonnées `(x0, y0)` et `(x1, y1)`. C'est un cercle si ce rectangle est un carré."
   ]
  },
  {
   "cell_type": "markdown",
   "metadata": {
    "slideshow": {
     "slide_type": "subslide"
    }
   },
   "source": [
    "**Manipulation des objets dessinés**\n",
    "\n",
    "---\n",
    "\n",
    "* en plus des lignes et des ellipses, le widget canvas permet de dessiner des polygones, des arcs de cercles.\n",
    "* les méthodes `.create_objet()` renvoient l'identifiant de l'objet qui a été créé. Des méthodes du canvas peuvent ensuite modifier l'objet grâce à son identifiant.\n"
   ]
  },
  {
   "cell_type": "code",
   "execution_count": null,
   "metadata": {
    "slideshow": {
     "slide_type": "fragment"
    }
   },
   "outputs": [],
   "source": [
    "import tkinter as tk\n",
    "\n",
    "HEIGHT = 500\n",
    "WIDTH = 500\n",
    "\n",
    "def bouge_cercle():\n",
    "    canvas.move(cercle, 50, 50) # méthode qui déplace l'objet cercle\n",
    "\n",
    "racine = tk.Tk() # Création de la fenêtre racine\n",
    "bouton = tk.Button(text=\"déplace cercle\", \n",
    "                    command=bouge_cercle, font = (\"Helvetica\", \"30\")\n",
    "                  )\n",
    "bouton.grid(column=0, row=1)\n",
    "canvas = tk.Canvas(racine, bg=\"red\", height=HEIGHT, width=WIDTH)\n",
    "canvas.grid(column=0, row=0)\n",
    "# on récupère l'identifiant du cercle:\n",
    "cercle = canvas.create_oval((100, 100), (300, 300), fill=\"blue\", width=5, outline=\"cyan\") \n",
    "racine.mainloop() # Lancement de la boucle principale"
   ]
  },
  {
   "cell_type": "markdown",
   "metadata": {
    "slideshow": {
     "slide_type": "subslide"
    }
   },
   "source": [
    "**Exercice: construire un damier de taille 8x8**\n",
    "\n",
    "---\n",
    "\n",
    "Note: utiliser la méthode `.create_rectangle()`"
   ]
  },
  {
   "cell_type": "code",
   "execution_count": null,
   "metadata": {
    "slideshow": {
     "slide_type": "fragment"
    }
   },
   "outputs": [],
   "source": []
  },
  {
   "cell_type": "code",
   "execution_count": null,
   "metadata": {
    "slideshow": {
     "slide_type": "notes"
    }
   },
   "outputs": [],
   "source": [
    "import tkinter as tk\n",
    "\n",
    "HEIGHT = 500\n",
    "WIDTH = 500\n",
    "largeur_case = WIDTH // 8\n",
    "hauteur_case = HEIGHT // 8\n",
    "\n",
    "racine = tk.Tk() # Création de la fenêtre racine\n",
    "canvas = tk.Canvas(racine, bg=\"red\", height=HEIGHT, width=WIDTH)\n",
    "canvas.grid()\n",
    "for i in range(8):\n",
    "    for j in range(8):\n",
    "        if (i+j) % 2 == 0:\n",
    "            color = \"gray80\"\n",
    "        else:\n",
    "            color = \"black\"\n",
    "        canvas.create_rectangle((i*largeur_case, j*hauteur_case),\n",
    "                ((i+1)*largeur_case, (j+1)*hauteur_case), fill=color)\n",
    "racine.mainloop() # Lancement de la boucle principale"
   ]
  },
  {
   "cell_type": "markdown",
   "metadata": {
    "slideshow": {
     "slide_type": "subslide"
    }
   },
   "source": [
    "**Couleurs**\n",
    "\n",
    "---\n",
    "\n",
    "Comme on l'a vu, certaines couleurs sont déjà prédéfinies.\n",
    "\n",
    "![](800px-TkInterColorCharts.png)\n",
    "\n",
    "Extrait de `http://stackoverflow.com/questions/4969543/colour-chart-for-tkinter-and-tix-using-python`"
   ]
  },
  {
   "cell_type": "markdown",
   "metadata": {
    "slideshow": {
     "slide_type": "subslide"
    }
   },
   "source": [
    "**Construire ses couleurs**\n",
    "\n",
    "---\n",
    "\n",
    "Une couleur est codée par ses trois teintes `(rouge, vert, bleu)` qui peuvent prendre chacune une valeur entre 0 et 255.\n",
    "\n",
    "**Exemples:**\n",
    "* noir: (0, 0, 0)\n",
    "* blanc: (255, 255, 255)\n",
    "* gris: (x, x, x)\n",
    "* rouge: (255, 0, 0)\n",
    "* jaune: (255, 255, 0)\n",
    "\n",
    "Combien y a-t'il de couleurs différentes?\n",
    "\n",
    "Voici une fonction qui retourne une couleur sous le format attendu par tkinter à partir de ces 3 composantes (on ne demande pas de comprendre son fonctionnement):"
   ]
  },
  {
   "cell_type": "code",
   "execution_count": null,
   "metadata": {
    "slideshow": {
     "slide_type": "fragment"
    }
   },
   "outputs": [],
   "source": [
    "def get_color(r=0, g=0, b=0):\n",
    "    \"\"\" Retourne une couleur à partir de ses composantes r, g, b\"\"\"\n",
    "    return '#{:02x}{:02x}{:02x}'.format(r, g, b)"
   ]
  },
  {
   "cell_type": "markdown",
   "metadata": {
    "slideshow": {
     "slide_type": "subslide"
    }
   },
   "source": [
    "**Utilisation de la fonction `get_color()`**\n",
    "\n",
    "---\n",
    "Le programme demande 3 valeurs et affiche la couleur correspondante."
   ]
  },
  {
   "cell_type": "code",
   "execution_count": null,
   "metadata": {
    "slideshow": {
     "slide_type": "-"
    }
   },
   "outputs": [],
   "source": [
    "import tkinter as tk\n",
    "\n",
    "def afficher_couleur():\n",
    "    while True:\n",
    "        r = int(input(\"Teinte de rouge? \"))\n",
    "        v = int(input(\"Teinte de vert? \"))\n",
    "        b = int(input(\"Teinte de bleu? \"))\n",
    "        if 0 <= r <= 255 and 0 <= v <= 255 and 0 <= b <= 255:\n",
    "            break\n",
    "    canvas.config(bg=get_color(r, v, b))\n",
    "                      \n",
    "\n",
    "racine = tk.Tk() # Création de la fenêtre racine\n",
    "canvas = tk.Canvas(racine, width=400, height=400, bg=\"white\")\n",
    "canvas.grid(row=0)\n",
    "bouton = tk.Button(racine, text=\"Choisir couleur\", font=(\"Helvetica\", \"30\"), command=afficher_couleur)\n",
    "bouton.grid(row=1)\n",
    "\n",
    "racine.mainloop() # Lancement de la boucle principale"
   ]
  },
  {
   "cell_type": "markdown",
   "metadata": {},
   "source": [
    "**Remarque:** on aurait pu utiliser les champs de saisie pour récupérer les valeurs choisies par l'utilisateur dans la fenêtre graphique. Mais leur utilisation est plus complexe."
   ]
  },
  {
   "cell_type": "markdown",
   "metadata": {
    "slideshow": {
     "slide_type": "slide"
    }
   },
   "source": [
    "## 5. Gestion des événements\n",
    "\n",
    "---\n",
    "\n",
    "* Un *événement* est la survenue d'une action faite par l'utilisateur (clavier ou souris) à laquelle le programme doit réagir:\n",
    "\n",
    "    * clic sur un bouton de la souris\n",
    "    * déplacement de la souris\n",
    "    * appui sur une touche du clavier\n",
    "    * relâchement d'une touche du clavier\n",
    "    * un compte à rebours est écoulé (cet événement n'est pas déclenché directement par l'utilisateur)...\n",
    "\n",
    "\n",
    "* Par exemple, le widget Button réagit à un clic souris en appelant la fonction associé à son paramètre `command`.\n",
    "\n",
    "\n",
    "* De manière plus générale, on peut *lier* un événement à une action pour un événement qui surviendrait dans un widget donné de la manière suivante:\n",
    "```python\n",
    "widget.bind(event, action)\n",
    "```\n",
    "où\n",
    "    * `event` est un descripteur de l'événement à traiter\n",
    "    * `action` est la fonction (callback) à appeler quand l'événement survient"
   ]
  },
  {
   "cell_type": "markdown",
   "metadata": {
    "slideshow": {
     "slide_type": "subslide"
    }
   },
   "source": [
    "**Exemple: connaître les coordonnées du point cliqué**\n",
    "\n",
    "---"
   ]
  },
  {
   "cell_type": "code",
   "execution_count": null,
   "metadata": {
    "slideshow": {
     "slide_type": "-"
    }
   },
   "outputs": [],
   "source": [
    "import tkinter as tk\n",
    "\n",
    "def affichage(event):\n",
    "    print(\"clic aux coordonnées \", event.x , event.y)\n",
    "    \n",
    "racine = tk.Tk() # Création de la fenêtre racine\n",
    "racine.bind(\"<Button-1>\", affichage)\n",
    "racine.mainloop() # Lancement de la boucle principale"
   ]
  },
  {
   "cell_type": "markdown",
   "metadata": {
    "slideshow": {
     "slide_type": "subslide"
    }
   },
   "source": [
    "**Méthode `.mainloop()`**\n",
    "\n",
    "---\n",
    "\n",
    "La méthode `.mainloop()` implémente une boucle infinie dont on ne sort que en quittant le programme (clic sur la croix de fermeture de la fenêtre). A chaque itération:\n",
    "\n",
    "* elle exécute les actions liées aux événements associés aux widgets: méthode `.bind()`\n",
    "* elle exécute les actions dont le compte à rebours est arrivé à échéance: méthode `.after()`\n",
    "\n",
    "On appelle cela la *programmation événementielle*: le programme est défini par ses réactions aux événements qui peuvent se produire, dont l'ordre n'est pas pas connu à l'avance, au contraire de la *programmation séquentiel*.\n",
    "\n",
    "C'est aussi le paradigme de programmation utilisé en robotique.\n",
    "\n",
    "Toute fonction (comme `affichage`) appelée dans `bind` aura obligatoirement comme premier argument une variable de type événement (détails après). Cette variable se nomme `event` en général."
   ]
  },
  {
   "cell_type": "markdown",
   "metadata": {
    "slideshow": {
     "slide_type": "subslide"
    }
   },
   "source": [
    "**Méthode `.mainloop()`**\n",
    "\n",
    "---\n",
    "La méthode `.mainloop()` bloque l'exécution du programme et doit donc se placer à la fin."
   ]
  },
  {
   "cell_type": "code",
   "execution_count": null,
   "metadata": {
    "slideshow": {
     "slide_type": "-"
    }
   },
   "outputs": [],
   "source": [
    "import tkinter as tk\n",
    "\n",
    "\n",
    "racine = tk.Tk() # Création de la fenêtre racine\n",
    "racine.mainloop() # Lancement de la boucle principale\n",
    "print(\"hello world\")"
   ]
  },
  {
   "cell_type": "markdown",
   "metadata": {
    "slideshow": {
     "slide_type": "subslide"
    }
   },
   "source": [
    "**Format des événements**\n",
    "\n",
    "---\n",
    "L'utilisation de la méthode `.bind()` nécessite de connaître le code associé aux événements. Par exemple, dans\n",
    "```python\n",
    "canvas.bind(\"<Button-1>\", affichage)\n",
    "```\n",
    "`<Button-1>` désigne un clic gauche de la souris.\n",
    "\n",
    "Quelques événements standards:\n",
    "* `<Button-i>`: clic souris gauche si i vaut 1, central si i vaut 2 et droite si i vaut 3\n",
    "* `<ButtonRelease-i>`: relâchement d'un bouton de la souris (i vaut 1, 2 ou 3 comme ci-dessus)\n",
    "* `<KeyPress-i>`: touche `i` enfoncée\n",
    "* `<KeyRelease-i>`: touche `i` relachée\n",
    "* pleins d'autres exemples [ici](http://effbot.org/tkinterbook/tkinter-events-and-bindings.htm#events)\n"
   ]
  },
  {
   "cell_type": "code",
   "execution_count": null,
   "metadata": {
    "slideshow": {
     "slide_type": "subslide"
    }
   },
   "outputs": [],
   "source": [
    "import tkinter as tk\n",
    "\n",
    "def appui_a(event):\n",
    "    print(\"Tu as appuyé sur la touche a\")\n",
    "\n",
    "def relache_a(event):\n",
    "    print(\"Tu as relâché la touche a\")\n",
    "    \n",
    "def affichage(event):\n",
    "    print(\"toto\")\n",
    "    \n",
    "racine = tk.Tk() # Création de la fenêtre racine\n",
    "racine.bind(\"<KeyPress-a>\", appui_a)\n",
    "racine.bind(\"<KeyRelease-a>\", relache_a)\n",
    "racine.bind(\"<Button-1>\", affichage)\n",
    "racine.mainloop() # Lancement de la boucle principale"
   ]
  },
  {
   "cell_type": "markdown",
   "metadata": {
    "slideshow": {
     "slide_type": "fragment"
    }
   },
   "source": [
    "**Remarques:** \n",
    "* maintenir la touche appuyé pendant un certain temps mène à répéter la suite d'appui - relâchement de la touche\n",
    "* pour recevoir un événement clavier, un widget doit avoir le *focus*, et, par défaut, le widget racine a bien le focus. "
   ]
  },
  {
   "cell_type": "markdown",
   "metadata": {
    "slideshow": {
     "slide_type": "subslide"
    }
   },
   "source": [
    "**Fonction callback**\n",
    "\n",
    "---\n",
    "\n",
    "La fonction callback est la fonction appelée quand un événement se produit. La fonction doit accepter au moins un argument qui se nomme généralement `event` et est placé en premier argument de la fonction:\n",
    "```python\n",
    "def fonction_callback(event, argument2...):\n",
    "    pass\n",
    "```\n",
    "Cet argument permet de récupérer des informations sur l'événement. Quelques *attributs* utiles:\n",
    "* `event.x, event.y`: position de la souris par rapport à la fenêtre\n",
    "* `event.char`: le caractère (pour événement clavier) donné sous forme de string"
   ]
  },
  {
   "cell_type": "code",
   "execution_count": null,
   "metadata": {
    "slideshow": {
     "slide_type": "fragment"
    }
   },
   "outputs": [],
   "source": [
    "import tkinter as tk\n",
    "\n",
    "def appui_touche(event):\n",
    "    print(\"Tu as appuyé sur la touche\", event.char)\n",
    "\n",
    "racine = tk.Tk() # Création de la fenêtre racine\n",
    "racine.bind(\"<KeyPress>\", appui_touche)\n",
    "racine.mainloop() # Lancement de la boucle principale"
   ]
  },
  {
   "cell_type": "markdown",
   "metadata": {
    "slideshow": {
     "slide_type": "fragment"
    }
   },
   "source": [
    "**Remarque**: le programme fonctionne pour les touches correspondant à des caractères uniquement."
   ]
  },
  {
   "cell_type": "markdown",
   "metadata": {
    "slideshow": {
     "slide_type": "subslide"
    }
   },
   "source": [
    "**Création de compte à rebours avec la méthode `.after()`**\n",
    "\n",
    "---\n",
    "\n",
    "C'est une méthode commune à tous les widgets:\n",
    "```python\n",
    "widget.after(delai, fonction)\n",
    "```\n",
    "* `delai`: est la durée en ms avant d'appeler la fonction\n",
    "* `fonction`: est la fonction appelée"
   ]
  },
  {
   "cell_type": "code",
   "execution_count": null,
   "metadata": {
    "slideshow": {
     "slide_type": "-"
    }
   },
   "outputs": [],
   "source": [
    "import tkinter as tk\n",
    "\n",
    "cpt = 0\n",
    "def affichage():\n",
    "    global cpt\n",
    "    cpt += 1\n",
    "    print(\"Affichage numéro\", cpt)\n",
    "    racine.after(1000, affichage)\n",
    "\n",
    "racine = tk.Tk() # Création de la fenêtre racine\n",
    "affichage()\n",
    "racine.mainloop() # Lancement de la boucle principale"
   ]
  },
  {
   "cell_type": "markdown",
   "metadata": {
    "slideshow": {
     "slide_type": "subslide"
    }
   },
   "source": [
    "**Déplacer une balle**\n",
    "\n",
    "---\n",
    "Modifier le programme suivant pour que la balle se déplace toute seule."
   ]
  },
  {
   "cell_type": "code",
   "execution_count": null,
   "metadata": {
    "slideshow": {
     "slide_type": "-"
    }
   },
   "outputs": [],
   "source": [
    "import tkinter as tk\n",
    "\n",
    "HEIGHT = 500\n",
    "WIDTH = 500\n",
    "\n",
    "def bouge_cercle():\n",
    "    canvas.move(cercle, 50, 50) # méthode qui déplace l'objet cercle\n",
    "\n",
    "racine = tk.Tk() # Création de la fenêtre racine\n",
    "bouton = tk.Button(text=\"déplace cercle\", \n",
    "                    command=bouge_cercle, font = (\"Helvetica\", \"30\")\n",
    "                  )\n",
    "bouton.grid(column=0, row=1)\n",
    "canvas = tk.Canvas(racine, bg=\"red\", height=HEIGHT, width=WIDTH)\n",
    "canvas.grid(column=0, row=0)\n",
    "# on récupère l'identifiant du cercle:\n",
    "cercle = canvas.create_oval((100, 100), (300, 300), fill=\"blue\", width=5, outline=\"cyan\") \n",
    "racine.mainloop() # Lancement de la boucle principale"
   ]
  },
  {
   "cell_type": "code",
   "execution_count": null,
   "metadata": {
    "slideshow": {
     "slide_type": "notes"
    }
   },
   "outputs": [],
   "source": [
    "import tkinter as tk\n",
    "\n",
    "HEIGHT = 500\n",
    "WIDTH = 500\n",
    "\n",
    "def bouge_cercle():\n",
    "    canvas.move(cercle, 1, 1) # méthode qui déplace l'objet cercle\n",
    "    canvas.after(20, bouge_cercle)\n",
    "    \n",
    "racine = tk.Tk() # Création de la fenêtre racine\n",
    "canvas = tk.Canvas(racine, bg=\"red\", height=HEIGHT, width=WIDTH)\n",
    "canvas.grid(column=0, row=0)\n",
    "cercle = canvas.create_oval((100, 100), (300, 300), fill=\"blue\", width=5, outline=\"cyan\") \n",
    "bouge_cercle()\n",
    "racine.mainloop() # Lancement de la boucle principale"
   ]
  },
  {
   "cell_type": "markdown",
   "metadata": {
    "slideshow": {
     "slide_type": "slide"
    }
   },
   "source": [
    "## 6. Autres méthodes associées au widget canvas"
   ]
  },
  {
   "cell_type": "markdown",
   "metadata": {
    "slideshow": {
     "slide_type": "subslide"
    }
   },
   "source": [
    "**Méthode `.coords()`**\n",
    "\n",
    "---\n",
    "```python\n",
    "canvas.coords(objet)\n",
    "```\n",
    "retourne les coordonnées de l'objet, en général celle de la boîte englobante, sous la forme d'un tuple $(x_1, y_1, x_2, y_2)$\n",
    "\n",
    "```python\n",
    "canvas.coords(objet, x1, y1, x2, y2)\n",
    "```\n",
    "modifie les coordonnées de l'objet."
   ]
  },
  {
   "cell_type": "code",
   "execution_count": null,
   "metadata": {
    "slideshow": {
     "slide_type": "fragment"
    }
   },
   "outputs": [],
   "source": [
    "import tkinter as tk\n",
    "\n",
    "racine = tk.Tk() # Création de la fenêtre racine\n",
    "canvas = tk.Canvas(racine, bg=\"red\", height=500, width=500)\n",
    "canvas.grid(column=0, row=0)\n",
    "cercle = canvas.create_oval((100, 100), (300, 300), fill=\"blue\", width=5, outline=\"cyan\") \n",
    "print(canvas.coords(cercle))\n",
    "canvas.coords(cercle, 300, 300, 500, 500) \n",
    "print(canvas.coords(cercle))\n",
    "racine.mainloop() # Lancement de la boucle principale"
   ]
  },
  {
   "cell_type": "markdown",
   "metadata": {
    "slideshow": {
     "slide_type": "subslide"
    }
   },
   "source": [
    "**Méthode `.itemconfigure()`**\n",
    "\n",
    "---\n",
    "```python\n",
    "canvas.itemconfigure(objet, param=new_value)\n",
    "```\n",
    "modifie le paramètre `param` de l'objet passé en argument."
   ]
  },
  {
   "cell_type": "code",
   "execution_count": null,
   "metadata": {
    "slideshow": {
     "slide_type": "fragment"
    }
   },
   "outputs": [],
   "source": [
    "import tkinter as tk\n",
    "\n",
    "racine = tk.Tk() # Création de la fenêtre racine\n",
    "canvas = tk.Canvas(racine, bg=\"red\", height=500, width=500)\n",
    "canvas.grid(column=0, row=0)\n",
    "cercle = canvas.create_oval((100, 100), (300, 300), fill=\"blue\", width=5, outline=\"cyan\") \n",
    "canvas.itemconfigure(cercle, fill=\"white\") \n",
    "racine.mainloop() # Lancement de la boucle principale"
   ]
  },
  {
   "cell_type": "markdown",
   "metadata": {
    "slideshow": {
     "slide_type": "subslide"
    }
   },
   "source": [
    "**Méthode `.delete()`**\n",
    "\n",
    "---\n",
    "Permet de supprimer un objet graphique à partir de son identifiant."
   ]
  },
  {
   "cell_type": "code",
   "execution_count": null,
   "metadata": {
    "slideshow": {
     "slide_type": "-"
    }
   },
   "outputs": [],
   "source": [
    "import tkinter as tk\n",
    "  \n",
    "cpt = 0\n",
    "\n",
    "def dessine_efface():\n",
    "    global cpt, cercle\n",
    "    cpt = 1 - cpt # vaut alternativement 0 et 1\n",
    "    if cpt == 0:\n",
    "        cercle = canvas.create_oval((100, 100), (400, 400), fill=\"blue\", width=5, outline=\"cyan\") \n",
    "    else:\n",
    "        canvas.delete(cercle)\n",
    "    canvas.after(1000, dessine_efface)\n",
    "        \n",
    "    \n",
    "racine = tk.Tk() # Création de la fenêtre racine\n",
    "canvas = tk.Canvas(racine, bg=\"red\", height=500, width=500)\n",
    "canvas.grid(column=0, row=0)\n",
    "cercle = canvas.create_oval((100, 100), (400, 400), fill=\"blue\", width=5, outline=\"cyan\") \n",
    "dessine_efface()\n",
    "racine.mainloop() # Lancement de la boucle principale"
   ]
  },
  {
   "cell_type": "markdown",
   "metadata": {
    "slideshow": {
     "slide_type": "subslide"
    }
   },
   "source": [
    "**Méthode `find_closest`**\n",
    "\n",
    "---\n",
    "```python\n",
    "canvas.find_closest(x, y)\n",
    "```\n",
    "Retourne une liste contenant l'identifiant des objets les plus proches du point $(x, y)$. En première position se trouve l'objet au-dessus des autres.\n"
   ]
  },
  {
   "cell_type": "code",
   "execution_count": null,
   "metadata": {
    "slideshow": {
     "slide_type": "-"
    }
   },
   "outputs": [],
   "source": [
    "import tkinter as tk\n",
    "  \n",
    "def efface_objet_proche(event):\n",
    "    objet = canvas.find_closest(event.x, event.y)\n",
    "    if len(objet) != 0:\n",
    "        canvas.delete(objet[0])\n",
    "    \n",
    "racine = tk.Tk() # Création de la fenêtre racine\n",
    "canvas = tk.Canvas(racine, bg=\"red\", height=500, width=500)\n",
    "canvas.grid(column=0, row=0)\n",
    "cercle = canvas.create_oval((100, 100), (200, 200), fill=\"blue\") \n",
    "carre = canvas.create_rectangle((300, 300), (400, 400), fill=\"yellow\") \n",
    "canvas.bind(\"<Button-1>\", efface_objet_proche)\n",
    "racine.mainloop() # Lancement de la boucle principale"
   ]
  },
  {
   "cell_type": "code",
   "execution_count": null,
   "metadata": {
    "slideshow": {
     "slide_type": "subslide"
    }
   },
   "outputs": [],
   "source": []
  }
 ],
 "metadata": {
  "celltoolbar": "Diaporama",
  "kernelspec": {
   "display_name": "Python 3",
   "language": "python",
   "name": "python3"
  },
  "language_info": {
   "codemirror_mode": {
    "name": "ipython",
    "version": 3
   },
   "file_extension": ".py",
   "mimetype": "text/x-python",
   "name": "python",
   "nbconvert_exporter": "python",
   "pygments_lexer": "ipython3",
   "version": "3.8.5-final"
  }
 },
 "nbformat": 4,
 "nbformat_minor": 1
}