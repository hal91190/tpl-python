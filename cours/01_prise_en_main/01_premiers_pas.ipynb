{
 "cells": [
  {
   "cell_type": "markdown",
   "metadata": {
    "slideshow": {
     "slide_type": "slide"
    }
   },
   "source": [
    "# Cours 1 : premiers pas avec Python"
   ]
  },
  {
   "cell_type": "markdown",
   "metadata": {
    "slideshow": {
     "slide_type": "slide"
    }
   },
   "source": [
    "## 1. Utilisation du notebook Python\n",
    "---\n",
    "\n",
    "Un notebook est constitué de 2 sortes de *cellules*:\n",
    "\n",
    "* celles qui affichent du *texte formaté* \n",
    "* celles qui évaluent du *code Python*\n",
    "\n",
    "Ceci est une cellule de texte qui peut être éditée en double-cliquant dessus.\n",
    "On voit apparaître des *commandes* du langage [markdown](https://fr.wikipedia.org/wiki/Markdown).\n",
    "\n",
    "Voici maintenant une cellule de code Python:"
   ]
  },
  {
   "cell_type": "code",
   "execution_count": null,
   "metadata": {
    "slideshow": {
     "slide_type": "fragment"
    }
   },
   "outputs": [],
   "source": [
    "5 + 3.2 / 10"
   ]
  },
  {
   "cell_type": "markdown",
   "metadata": {
    "slideshow": {
     "slide_type": "fragment"
    }
   },
   "source": [
    "Le notebook permet d'écrire des programmes très lisibles, mais l'usage des outils de programmation est limité."
   ]
  },
  {
   "cell_type": "markdown",
   "metadata": {
    "slideshow": {
     "slide_type": "subslide"
    }
   },
   "source": [
    "**Evaluation d'une cellule de code**\n",
    "\n",
    "---"
   ]
  },
  {
   "cell_type": "code",
   "execution_count": null,
   "metadata": {
    "slideshow": {
     "slide_type": "fragment"
    }
   },
   "outputs": [],
   "source": [
    "5 + 3.2 / 10"
   ]
  },
  {
   "cell_type": "markdown",
   "metadata": {
    "slideshow": {
     "slide_type": "fragment"
    }
   },
   "source": [
    "Pour évaluer cette *expression* numérique, taper sur les touches `SHIFT + ENTREE` du clavier après avoir cliqué sur la cellule. Apparaissent alors:\n",
    "* un texte en sortie qui est la *valeur de l'expression*\n",
    "* un numéro à côté de la cellule qui est son *ordre d'évaluation* qui peut être différent de son ordre d'apparition."
   ]
  },
  {
   "cell_type": "markdown",
   "metadata": {
    "slideshow": {
     "slide_type": "subslide"
    }
   },
   "source": [
    "**Le notebook comme une calculatrice**\n",
    "\n",
    "---\n",
    "Dans le cours de Python, vos notes sont `8.5`, `12` et `9.5` de coefficients respectifs `1`, `2` et `3`. Avez-vous obtenu la moyenne?\n"
   ]
  },
  {
   "cell_type": "code",
   "execution_count": null,
   "metadata": {
    "slideshow": {
     "slide_type": "fragment"
    }
   },
   "outputs": [],
   "source": []
  },
  {
   "cell_type": "markdown",
   "metadata": {
    "slideshow": {
     "slide_type": "subslide"
    }
   },
   "source": [
    "**Quelques commentaires**\n",
    "\n",
    "---"
   ]
  },
  {
   "cell_type": "code",
   "execution_count": null,
   "metadata": {
    "slideshow": {
     "slide_type": "fragment"
    }
   },
   "outputs": [],
   "source": [
    "(8.5 * 1 + 12 * 2 + 9.5 * 3) / (1 + 2 + 3) >= 10"
   ]
  },
  {
   "cell_type": "markdown",
   "metadata": {
    "slideshow": {
     "slide_type": "fragment"
    }
   },
   "source": [
    "* les nombres flottants s'écrivent avec un point et pas une virgule;\n",
    "* les caractères `+`, `*`, `>=`, etc. s'appellent des *opérateurs*;\n",
    "* les règles de priorité des expressions mathématiques s'appliquent et peuvent nécessiter l'usage des parenthèses;\n",
    "* les espaces sont facultatifs, mais les règles de style recommandent (voir [PEP8](https://www.python.org/dev/peps/pep-0008/)):\n",
    "    * un seul espace avant et après les opérateurs (+, /, etc...);\n",
    "    * pas d'espace à l'intérieur des parenthèses;\n",
    "    * si pas trop longue, l'expression est écrite sur une seule ligne"
   ]
  },
  {
   "cell_type": "markdown",
   "metadata": {
    "slideshow": {
     "slide_type": "subslide"
    }
   },
   "source": [
    "**Stocker un résultat**\n",
    "\n",
    "---\n",
    "\n",
    "L'instruction suivante sauve le résultat de l'expression `2 ** 10` dans la *variable* `a`."
   ]
  },
  {
   "cell_type": "code",
   "execution_count": null,
   "metadata": {
    "slideshow": {
     "slide_type": "fragment"
    }
   },
   "outputs": [],
   "source": [
    "a = 2 ** 10"
   ]
  },
  {
   "cell_type": "markdown",
   "metadata": {
    "slideshow": {
     "slide_type": "fragment"
    }
   },
   "source": [
    "* pas de texte en sortie;\n",
    "* car cette instruction est une *affectation* qui n'a pas de valeur (contrairement aux expressions);"
   ]
  },
  {
   "cell_type": "markdown",
   "metadata": {
    "slideshow": {
     "slide_type": "subslide"
    }
   },
   "source": [
    "**Afficher la valeur de la variable**\n",
    "\n",
    "---\n",
    "Deux possibilités:"
   ]
  },
  {
   "cell_type": "code",
   "execution_count": null,
   "metadata": {
    "slideshow": {
     "slide_type": "fragment"
    }
   },
   "outputs": [],
   "source": [
    "a"
   ]
  },
  {
   "cell_type": "code",
   "execution_count": null,
   "metadata": {
    "slideshow": {
     "slide_type": "fragment"
    }
   },
   "outputs": [],
   "source": [
    "print(a)"
   ]
  },
  {
   "cell_type": "markdown",
   "metadata": {
    "slideshow": {
     "slide_type": "fragment"
    }
   },
   "source": [
    "La première est spécifique du notebook. \n",
    "\n",
    "Il vaut mieux **privilégier la seconde**.\n",
    "\n",
    "**Question**: au final, que calcule l'expression `2 ** 10`?"
   ]
  },
  {
   "cell_type": "markdown",
   "metadata": {
    "slideshow": {
     "slide_type": "subslide"
    }
   },
   "source": [
    "**Ordre d'évaluation du notebook: prudence**\n",
    "\n",
    "---"
   ]
  },
  {
   "cell_type": "markdown",
   "metadata": {
    "slideshow": {
     "slide_type": "notes"
    }
   },
   "source": [
    "Montrer que l'affichage dépend de l'ordre d'évaluation et pas de l'ordre d'apparition en évaluant les cellules plusieurs fois dans des ordres différents."
   ]
  },
  {
   "cell_type": "code",
   "execution_count": null,
   "metadata": {
    "slideshow": {
     "slide_type": "fragment"
    }
   },
   "outputs": [],
   "source": [
    "print(a)"
   ]
  },
  {
   "cell_type": "code",
   "execution_count": null,
   "metadata": {
    "slideshow": {
     "slide_type": "fragment"
    }
   },
   "outputs": [],
   "source": [
    "a = False"
   ]
  },
  {
   "cell_type": "code",
   "execution_count": null,
   "metadata": {
    "slideshow": {
     "slide_type": "fragment"
    }
   },
   "outputs": [],
   "source": [
    "print(a)"
   ]
  },
  {
   "cell_type": "code",
   "execution_count": null,
   "metadata": {
    "slideshow": {
     "slide_type": "fragment"
    }
   },
   "outputs": [],
   "source": [
    "a = 0.1 ** 10"
   ]
  },
  {
   "cell_type": "code",
   "execution_count": null,
   "metadata": {
    "slideshow": {
     "slide_type": "fragment"
    }
   },
   "outputs": [],
   "source": [
    "print(a)"
   ]
  },
  {
   "cell_type": "markdown",
   "metadata": {
    "slideshow": {
     "slide_type": "subslide"
    }
   },
   "source": [
    "**Le notebook ne se limite pas à des calculs numériques**\n",
    "\n",
    "---"
   ]
  },
  {
   "cell_type": "code",
   "execution_count": null,
   "metadata": {
    "slideshow": {
     "slide_type": "fragment"
    }
   },
   "outputs": [],
   "source": [
    "import numpy\n",
    "from pylab import imshow, show\n",
    "\n",
    "def mandel(x, y, max_iters):\n",
    "  \"\"\"\n",
    "    Given the real and imaginary parts of a complex number,\n",
    "    determine if it is a candidate for membership in the Mandelbrot\n",
    "    set given a fixed number of iterations.\n",
    "  \"\"\"\n",
    "  c = complex(x, y)\n",
    "  z = 0.0j\n",
    "  for i in range(max_iters):\n",
    "    z = z*z + c\n",
    "    if (z.real*z.real + z.imag*z.imag) >= 4:\n",
    "      return i\n",
    "  return max_iters\n",
    "\n",
    "def create_fractal(min_x, max_x, min_y, max_y, image, iters):\n",
    "  height = image.shape[0]\n",
    "  width = image.shape[1]\n",
    "  pixel_size_x = (max_x - min_x) / width\n",
    "  pixel_size_y = (max_y - min_y) / height\n",
    "    \n",
    "  for x in range(width):\n",
    "    real = min_x + x * pixel_size_x\n",
    "    for y in range(height):\n",
    "      imag = min_y + y * pixel_size_y\n",
    "      color = mandel(real, imag, iters)\n",
    "      image[y, x] = color\n",
    "\n",
    "image = numpy.zeros((1024, 1536), dtype = numpy.uint8)\n",
    "create_fractal(-2.0, 1.0, -1.0, 1.0, image, 20) \n",
    "\n",
    "imshow(image)\n",
    "show()"
   ]
  },
  {
   "cell_type": "markdown",
   "metadata": {
    "slideshow": {
     "slide_type": "slide"
    }
   },
   "source": [
    "## 2. Les variables\n",
    "---\n",
    "Un premier exemple:"
   ]
  },
  {
   "cell_type": "code",
   "execution_count": null,
   "metadata": {
    "slideshow": {
     "slide_type": "fragment"
    }
   },
   "outputs": [],
   "source": [
    "x = 2\n",
    "y = x\n",
    "print(x, y)\n",
    "y = 3\n",
    "print(x, y)"
   ]
  },
  {
   "cell_type": "markdown",
   "metadata": {
    "slideshow": {
     "slide_type": "fragment"
    }
   },
   "source": [
    "**Notes:** \n",
    "* `2` et `3` sont des *objets* de *type entier* (cf plus tard)\n",
    "* `x` et `y` sont des identifiants qui font référence à l'un de ces objets\n",
    "* règle de style: on met un espace après une virgule mais pas avant"
   ]
  },
  {
   "cell_type": "markdown",
   "metadata": {
    "slideshow": {
     "slide_type": "subslide"
    }
   },
   "source": [
    "**Echanger les valeurs de deux variables**\n",
    "\n",
    "---\n"
   ]
  },
  {
   "cell_type": "code",
   "execution_count": null,
   "metadata": {
    "slideshow": {
     "slide_type": "fragment"
    }
   },
   "outputs": [],
   "source": [
    "x = 2\n",
    "y = 3\n",
    "#échanger la valeur des 2 variables ici\n",
    "\n",
    "print(x, y)"
   ]
  },
  {
   "cell_type": "code",
   "execution_count": null,
   "metadata": {
    "slideshow": {
     "slide_type": "notes"
    }
   },
   "outputs": [],
   "source": [
    "#Méthode fausse\n",
    "x = 2\n",
    "y = 3\n",
    "x = y\n",
    "y = x\n",
    "print(x, y)\n",
    "\n",
    "#première méthode\n",
    "x = 2\n",
    "y = 3\n",
    "z = x\n",
    "x = y\n",
    "y = z\n",
    "print(x, y)\n",
    "\n",
    "#deuxième méthode plus pythonesque: utilisation de tuples\n",
    "x = 2\n",
    "y = 3\n",
    "x, y = y, x\n",
    "print(x, y)"
   ]
  },
  {
   "cell_type": "markdown",
   "metadata": {
    "slideshow": {
     "slide_type": "fragment"
    }
   },
   "source": [
    "**Question**: et permuter 3 variables circulairement?"
   ]
  },
  {
   "cell_type": "code",
   "execution_count": null,
   "metadata": {
    "slideshow": {
     "slide_type": "notes"
    }
   },
   "outputs": [],
   "source": [
    "x, y, z = 2, 3, 4\n",
    "x, y, z = y, z, x\n",
    "print(x, y, z)"
   ]
  },
  {
   "cell_type": "code",
   "execution_count": null,
   "metadata": {
    "slideshow": {
     "slide_type": "fragment"
    }
   },
   "outputs": [],
   "source": []
  },
  {
   "cell_type": "markdown",
   "metadata": {
    "slideshow": {
     "slide_type": "fragment"
    }
   },
   "source": [
    "**Remarque**: on a ajouté un commentaire avec le caractère `#` "
   ]
  },
  {
   "cell_type": "markdown",
   "metadata": {
    "slideshow": {
     "slide_type": "subslide"
    }
   },
   "source": [
    "**Remarques sur l'affectation**\n",
    "\n",
    "---\n",
    "Contrairement à l'égalité en maths, l'opérateur d'affectation `=` n'est pas symétrique:"
   ]
  },
  {
   "cell_type": "code",
   "execution_count": null,
   "metadata": {
    "slideshow": {
     "slide_type": "fragment"
    }
   },
   "outputs": [],
   "source": [
    "5 = x"
   ]
  },
  {
   "cell_type": "markdown",
   "metadata": {
    "slideshow": {
     "slide_type": "fragment"
    }
   },
   "source": [
    "* l'opérande de gauche doit être une variable\n",
    "* l'opérande de droite doit être une expression ($\\approx$ avoir une valeur)"
   ]
  },
  {
   "cell_type": "markdown",
   "metadata": {
    "slideshow": {
     "slide_type": "subslide"
    }
   },
   "source": [
    "**Règles de nommage des variables**\n",
    "\n",
    "---\n",
    "\n",
    "* caractères autorisés:\n",
    "    * caractère alphabétique (A à Z) en majuscule ou minuscule\n",
    "    * chiffres (0 à 9)\n",
    "    * caractère souligné `_` (touche 8 du clavier)\n",
    "    * et c'est tout! Ni espace, ni caractères accentués...\n",
    "* le nom ne doit pas commencer par un chiffre\n",
    "* Python est sensible à la casse: les variables `toto` et `toTo` sont différentes\n",
    "* ne pas utiliser un mot réservé du langage comme `print` et toutes les fonctions natives que nous verrons\n",
    "* recommandations annexes:\n",
    "    * sauf exceptions, donner un nom explicite aux variables tel `nb_de_vie`\n",
    "    * suivre cet exemple, cad séparer les mots par des `_` sans majuscules\n",
    "    * éviter d'autres formes telles `NbDeVie`; au moins être cohérent dans tout le programme\n"
   ]
  },
  {
   "cell_type": "markdown",
   "metadata": {
    "slideshow": {
     "slide_type": "slide"
    }
   },
   "source": [
    "## 3. Types de données\n",
    "---\n",
    "\n",
    "Le type d'une donnée détermine:\n",
    "* les opérations que l'on peut lui appliquer\n",
    "* les valeurs qu'elle peut prendre\n",
    "\n",
    "Les types prédéfinis que l'on va manipuler au début sont:\n",
    "* les nombres entiers\n",
    "* les nombres flottants\n",
    "* les nombres booléens\n",
    "* les chaînes de caractères\n",
    "\n",
    "**Question**: donner des exemples d'opérations que l'on doit pouvoir faire avec ces types."
   ]
  },
  {
   "cell_type": "markdown",
   "metadata": {
    "slideshow": {
     "slide_type": "subslide"
    }
   },
   "source": [
    "**Afficher les types**\n",
    "\n",
    "---"
   ]
  },
  {
   "cell_type": "code",
   "execution_count": null,
   "metadata": {
    "slideshow": {
     "slide_type": "fragment"
    }
   },
   "outputs": [],
   "source": [
    "a = 5\n",
    "print(type(a), type(7))"
   ]
  },
  {
   "cell_type": "code",
   "execution_count": null,
   "metadata": {
    "slideshow": {
     "slide_type": "fragment"
    }
   },
   "outputs": [],
   "source": [
    "a = 3.14\n",
    "print(type(a))"
   ]
  },
  {
   "cell_type": "code",
   "execution_count": null,
   "metadata": {
    "slideshow": {
     "slide_type": "fragment"
    }
   },
   "outputs": [],
   "source": [
    "a = (5 < 2)\n",
    "print(a, type(a))"
   ]
  },
  {
   "cell_type": "code",
   "execution_count": null,
   "metadata": {
    "slideshow": {
     "slide_type": "fragment"
    }
   },
   "outputs": [],
   "source": [
    "print(type(\"hello world\"))"
   ]
  },
  {
   "cell_type": "markdown",
   "metadata": {
    "slideshow": {
     "slide_type": "fragment"
    }
   },
   "source": [
    "**Remarque**: le type d'une variable peut changer au cours du temps, et il n'est pas explicité par le programmeur (typage *dynamique* et *implicite*)."
   ]
  },
  {
   "cell_type": "markdown",
   "metadata": {
    "slideshow": {
     "slide_type": "subslide"
    }
   },
   "source": [
    "**Type entier**\n",
    "\n",
    "---\n",
    "Les entiers ont une précision arbitraire."
   ]
  },
  {
   "cell_type": "code",
   "execution_count": null,
   "metadata": {
    "slideshow": {
     "slide_type": "fragment"
    }
   },
   "outputs": [],
   "source": [
    "a = 10 ** 10\n",
    "print(a ** 10)"
   ]
  },
  {
   "cell_type": "markdown",
   "metadata": {
    "slideshow": {
     "slide_type": "fragment"
    }
   },
   "source": [
    "* division entière"
   ]
  },
  {
   "cell_type": "code",
   "execution_count": null,
   "metadata": {
    "slideshow": {
     "slide_type": "fragment"
    }
   },
   "outputs": [],
   "source": [
    "10 // 3"
   ]
  },
  {
   "cell_type": "markdown",
   "metadata": {
    "slideshow": {
     "slide_type": "fragment"
    }
   },
   "source": [
    "* division flottante"
   ]
  },
  {
   "cell_type": "code",
   "execution_count": null,
   "metadata": {
    "slideshow": {
     "slide_type": "fragment"
    }
   },
   "outputs": [],
   "source": [
    "10 / 3"
   ]
  },
  {
   "cell_type": "markdown",
   "metadata": {
    "slideshow": {
     "slide_type": "fragment"
    }
   },
   "source": [
    "* modulo"
   ]
  },
  {
   "cell_type": "code",
   "execution_count": null,
   "metadata": {
    "slideshow": {
     "slide_type": "fragment"
    }
   },
   "outputs": [],
   "source": [
    "10 % 3"
   ]
  },
  {
   "cell_type": "markdown",
   "metadata": {
    "slideshow": {
     "slide_type": "subslide"
    }
   },
   "source": [
    "**Questions**\n",
    "\n",
    "---\n",
    "Marcel met 17 minutes et 37 secondes pour venir à la fac. Combien de secondes cela fait-il au total?"
   ]
  },
  {
   "cell_type": "code",
   "execution_count": null,
   "metadata": {
    "slideshow": {
     "slide_type": "notes"
    }
   },
   "outputs": [],
   "source": [
    "res = 17 * 60 + 37\n",
    "print(res)"
   ]
  },
  {
   "cell_type": "code",
   "execution_count": null,
   "metadata": {
    "slideshow": {
     "slide_type": "fragment"
    }
   },
   "outputs": [],
   "source": []
  },
  {
   "cell_type": "markdown",
   "metadata": {
    "slideshow": {
     "slide_type": "fragment"
    }
   },
   "source": [
    "Il fait l'aller retour cinq fois par semaines. Combien d'heures, minutes et seconde passe-t'il à faire ce trajet dans la semaine?"
   ]
  },
  {
   "cell_type": "code",
   "execution_count": null,
   "metadata": {
    "slideshow": {
     "slide_type": "notes"
    }
   },
   "outputs": [],
   "source": [
    "s_tot = 2 * 5 * res\n",
    "h = s_tot // 3600\n",
    "s_tot = s_tot % 3600\n",
    "m = s_tot // 60\n",
    "s = s_tot % 60\n",
    "print(h, m, s)"
   ]
  },
  {
   "cell_type": "code",
   "execution_count": null,
   "metadata": {
    "slideshow": {
     "slide_type": "fragment"
    }
   },
   "outputs": [],
   "source": []
  },
  {
   "cell_type": "markdown",
   "metadata": {
    "slideshow": {
     "slide_type": "subslide"
    }
   },
   "source": [
    "**Opérateurs d'affectation augmentés**\n",
    "\n",
    "---\n",
    "Ajouter la valeur de `b` à la variable `a`:"
   ]
  },
  {
   "cell_type": "code",
   "execution_count": null,
   "metadata": {
    "slideshow": {
     "slide_type": "fragment"
    }
   },
   "outputs": [],
   "source": [
    "a, b = 2, 3\n",
    "a += b\n",
    "print(a)"
   ]
  },
  {
   "cell_type": "markdown",
   "metadata": {
    "slideshow": {
     "slide_type": "fragment"
    }
   },
   "source": [
    "Incrémenter (ajouter 1 à une) variable:"
   ]
  },
  {
   "cell_type": "code",
   "execution_count": null,
   "metadata": {
    "slideshow": {
     "slide_type": "fragment"
    }
   },
   "outputs": [],
   "source": [
    "a += 1\n",
    "print(a)"
   ]
  },
  {
   "cell_type": "markdown",
   "metadata": {
    "slideshow": {
     "slide_type": "fragment"
    }
   },
   "source": [
    "Autres opérateurs: `-=`, `*=`, etc..."
   ]
  },
  {
   "cell_type": "markdown",
   "metadata": {
    "slideshow": {
     "slide_type": "subslide"
    }
   },
   "source": [
    "**Type flottant**\n",
    "\n",
    "---\n",
    "Pour la plupart des nombres à virgule, on manipule une *approximation* de leur valeur."
   ]
  },
  {
   "cell_type": "code",
   "execution_count": null,
   "metadata": {
    "slideshow": {
     "slide_type": "fragment"
    }
   },
   "outputs": [],
   "source": [
    "3 * 0.1 == 0.3"
   ]
  },
  {
   "cell_type": "markdown",
   "metadata": {
    "slideshow": {
     "slide_type": "fragment"
    }
   },
   "source": [
    "La valeur exacte d'un flottant est donné par la fraction des 2 nombres suivants:"
   ]
  },
  {
   "cell_type": "code",
   "execution_count": null,
   "metadata": {
    "slideshow": {
     "slide_type": "fragment"
    }
   },
   "outputs": [],
   "source": [
    "(0.1).as_integer_ratio()"
   ]
  },
  {
   "cell_type": "markdown",
   "metadata": {
    "slideshow": {
     "slide_type": "notes"
    }
   },
   "source": [
    "Les librairies `decimal` ou `fractions` permettent de faire du calcul exact."
   ]
  },
  {
   "cell_type": "markdown",
   "metadata": {
    "slideshow": {
     "slide_type": "subslide"
    }
   },
   "source": [
    "**Utiliser des fonctions réelles standard**\n",
    "\n",
    "---"
   ]
  },
  {
   "cell_type": "code",
   "execution_count": null,
   "metadata": {
    "slideshow": {
     "slide_type": "fragment"
    }
   },
   "outputs": [],
   "source": [
    "cos(3.14)"
   ]
  },
  {
   "cell_type": "code",
   "execution_count": null,
   "metadata": {
    "slideshow": {
     "slide_type": "fragment"
    }
   },
   "outputs": [],
   "source": [
    "import math\n",
    "math.cos(math.pi)"
   ]
  },
  {
   "cell_type": "markdown",
   "metadata": {
    "slideshow": {
     "slide_type": "fragment"
    }
   },
   "source": [
    "La fonction cosinus n'est pas native de Python. Elle est dans le *module* `math`."
   ]
  },
  {
   "cell_type": "markdown",
   "metadata": {
    "slideshow": {
     "slide_type": "subslide"
    }
   },
   "source": [
    "**Type booléen**\n",
    "\n",
    "---\n",
    "Utile pour les *instructions de contrôle* d'un programme.\n",
    "* Deux valeurs: `False` et `True`.\n",
    "* Opérateurs de l'algèbre de Boole: `and`, `or`, `not`\n",
    "* Opérateurs de comparaison:\n",
    "    * `>=` supérieur ou égal\n",
    "    * `==` test d'égalité\n",
    "    * `!=` test de non égalité\n",
    "   \n",
    "**Question**: tester si une variable est plus petite ou égale à 0 ou bien comprise entre 1 et 3 sans être entière. \n"
   ]
  },
  {
   "cell_type": "code",
   "execution_count": null,
   "metadata": {
    "slideshow": {
     "slide_type": "notes"
    }
   },
   "outputs": [],
   "source": [
    "a = -0.5\n",
    "res = (a <= 0) or (a > 1 and a < 3 and a != 2)\n",
    "print(res)"
   ]
  },
  {
   "cell_type": "code",
   "execution_count": null,
   "metadata": {
    "slideshow": {
     "slide_type": "fragment"
    }
   },
   "outputs": [],
   "source": []
  },
  {
   "cell_type": "markdown",
   "metadata": {
    "slideshow": {
     "slide_type": "subslide"
    }
   },
   "source": [
    "**Chaînes de caractères (string)**\n",
    "\n",
    "---\n",
    "Suite de caractères entre guillemets (simple ou double)."
   ]
  },
  {
   "cell_type": "code",
   "execution_count": null,
   "metadata": {
    "slideshow": {
     "slide_type": "fragment"
    }
   },
   "outputs": [],
   "source": [
    "s1 = \"hello\"\n",
    "s2 = 'world'\n",
    "print(s1, s2)"
   ]
  },
  {
   "cell_type": "markdown",
   "metadata": {
    "slideshow": {
     "slide_type": "fragment"
    }
   },
   "source": [
    "Des opérations sur les chaînes de caractères sont fournies nativement:"
   ]
  },
  {
   "cell_type": "code",
   "execution_count": null,
   "metadata": {
    "slideshow": {
     "slide_type": "fragment"
    }
   },
   "outputs": [],
   "source": [
    "print(s1 + s2)\n",
    "print(len(s1))\n",
    "print(s1 > s2)\n",
    "print(s1 in s2)\n",
    "print(s1.upper())"
   ]
  },
  {
   "cell_type": "markdown",
   "metadata": {
    "slideshow": {
     "slide_type": "fragment"
    }
   },
   "source": [
    "**Question**: quelle est la signification de ces opérations?"
   ]
  },
  {
   "cell_type": "markdown",
   "metadata": {
    "slideshow": {
     "slide_type": "subslide"
    }
   },
   "source": [
    "**Connaître plus de fonctions de manipulations des chaînes de caractères**\n",
    "\n",
    "---\n",
    "\n",
    "* documentation officielle Python3: [https://docs.python.org/fr/3/library/stdtypes.html#text-sequence-type-str](https://docs.python.org/fr/3/library/stdtypes.html#text-sequence-type-str)\n",
    "* faire une recherche sur internet (par exemple sur [stackoverflow](https://stackoverflow.com/)) pour un usage précis\n",
    "* directement dans l'interpréteur:"
   ]
  },
  {
   "cell_type": "code",
   "execution_count": null,
   "metadata": {
    "slideshow": {
     "slide_type": "fragment"
    }
   },
   "outputs": [],
   "source": [
    "help(str)"
   ]
  },
  {
   "cell_type": "markdown",
   "metadata": {
    "slideshow": {
     "slide_type": "fragment"
    }
   },
   "source": [
    "Cela fonctionne avec n'importe quel type d'objet:"
   ]
  },
  {
   "cell_type": "code",
   "execution_count": null,
   "metadata": {
    "slideshow": {
     "slide_type": "fragment"
    }
   },
   "outputs": [],
   "source": [
    "help(float)"
   ]
  },
  {
   "cell_type": "markdown",
   "metadata": {
    "slideshow": {
     "slide_type": "subslide"
    }
   },
   "source": [
    "**Des affichages plus sympas**\n",
    "\n",
    "---"
   ]
  },
  {
   "cell_type": "code",
   "execution_count": null,
   "metadata": {
    "slideshow": {
     "slide_type": "fragment"
    }
   },
   "outputs": [],
   "source": [
    "x, y = 2, 3.5\n",
    "print(\"x vaut\", x, \"et y vaut\", y)"
   ]
  },
  {
   "cell_type": "markdown",
   "metadata": {
    "slideshow": {
     "slide_type": "fragment"
    }
   },
   "source": [
    "**Remarque**: la fonction `print` ajoute un espace entre l'affichage de chacun de ses *arguments* et un *retour à la ligne* à la fin.\n",
    "\n",
    "Arguments $=$ expressions séparées par des virgules entre les parenthèses. "
   ]
  },
  {
   "cell_type": "markdown",
   "metadata": {
    "slideshow": {
     "slide_type": "subslide"
    }
   },
   "source": [
    "**Concaténation**\n",
    "\n",
    "---\n",
    "L'opérateur `+` fait la *concaténation* de deux chaînes de caractères.\n",
    "\n",
    "Attention à ne pas mélanger les types:"
   ]
  },
  {
   "cell_type": "code",
   "execution_count": null,
   "metadata": {
    "slideshow": {
     "slide_type": "fragment"
    }
   },
   "outputs": [],
   "source": [
    "\"hello\" + 3"
   ]
  },
  {
   "cell_type": "markdown",
   "metadata": {
    "slideshow": {
     "slide_type": "subslide"
    }
   },
   "source": [
    "**Concaténation**\n",
    "\n",
    "---\n",
    "\n",
    "Ce qui suit est légal. Devinez le sens de cette expression:"
   ]
  },
  {
   "cell_type": "code",
   "execution_count": null,
   "metadata": {
    "slideshow": {
     "slide_type": "fragment"
    }
   },
   "outputs": [],
   "source": [
    "print(\"hello\" * 3)"
   ]
  },
  {
   "cell_type": "markdown",
   "metadata": {
    "slideshow": {
     "slide_type": "fragment"
    }
   },
   "source": [
    "Comment faire pour afficher 3 fois `hello` en revenant à la ligne à chaque fois?"
   ]
  },
  {
   "cell_type": "code",
   "execution_count": null,
   "metadata": {
    "slideshow": {
     "slide_type": "notes"
    }
   },
   "outputs": [],
   "source": [
    "print(\"hello\\n\"*3)"
   ]
  },
  {
   "cell_type": "markdown",
   "metadata": {
    "slideshow": {
     "slide_type": "fragment"
    }
   },
   "source": [
    "On utilise le retour à la ligne `\\n`."
   ]
  },
  {
   "cell_type": "markdown",
   "metadata": {
    "slideshow": {
     "slide_type": "subslide"
    }
   },
   "source": [
    "**Conversion de types**\n",
    "\n",
    "---\n",
    "* Le mélange de flottants et d'entiers dans une expression numérique donne une valeur flottante"
   ]
  },
  {
   "cell_type": "code",
   "execution_count": null,
   "metadata": {
    "slideshow": {
     "slide_type": "fragment"
    }
   },
   "outputs": [],
   "source": [
    "print(type(5 + 2.0))\n",
    "print(type(7 * 1.0))"
   ]
  },
  {
   "cell_type": "markdown",
   "metadata": {
    "slideshow": {
     "slide_type": "fragment"
    }
   },
   "source": [
    "* Fonctions de conversion (utilisable quand cela a un sens):\n",
    "    * `int`: conversion en entier\n",
    "    * `float`: conversion en flottant\n",
    "    * `str`: conversion en chaîne de caractères"
   ]
  },
  {
   "cell_type": "code",
   "execution_count": null,
   "metadata": {
    "slideshow": {
     "slide_type": "fragment"
    }
   },
   "outputs": [],
   "source": [
    "x, y = 2, 3.5\n",
    "s = \"x vaut \" + str(x) + \" et y vaut \" + str(y)\n",
    "print(s)"
   ]
  },
  {
   "cell_type": "markdown",
   "metadata": {
    "slideshow": {
     "slide_type": "subslide"
    }
   },
   "source": [
    "**Récupérer une valeur tapée au clavier par un utilisateur**\n",
    "\n",
    "---"
   ]
  },
  {
   "cell_type": "code",
   "execution_count": null,
   "metadata": {
    "slideshow": {
     "slide_type": "fragment"
    }
   },
   "outputs": [],
   "source": [
    "s = input(\"Entrer un texte\\n\")\n",
    "print(s)"
   ]
  },
  {
   "cell_type": "code",
   "execution_count": null,
   "metadata": {
    "slideshow": {
     "slide_type": "fragment"
    }
   },
   "outputs": [],
   "source": [
    "s = input(\"entrer un nombre entier\\n\")\n",
    "print(\"le nombre qui le précède est\", s - 1)"
   ]
  },
  {
   "cell_type": "code",
   "execution_count": null,
   "metadata": {
    "slideshow": {
     "slide_type": "fragment"
    }
   },
   "outputs": [],
   "source": [
    "s = input(\"entrer un nombre entier\\n\")\n",
    "print(\"le nombre qui le précède est\", int(s) - 1)"
   ]
  },
  {
   "cell_type": "markdown",
   "metadata": {
    "slideshow": {
     "slide_type": "subslide"
    }
   },
   "source": [
    "**Questions**\n",
    "\n",
    "---\n",
    "* deviner ce que pourrait valoir les expressions `-1 % 5`, `int(3.14)`, `int(-3.14)`\n",
    "* demander un nombre entier à l'utilisateur, puis écrire une expression qui retourne `True` si le nombre est pair, et `False` sinon;\n",
    "* écrire une expression qui permet de récupérer le nombre de chiffres de la représentation décimale d'un entier, par exemple de `3 ** 57`;\n",
    "* afficher ensuite le chiffre le plus à gauche de ce nombre."
   ]
  },
  {
   "cell_type": "code",
   "execution_count": null,
   "metadata": {
    "slideshow": {
     "slide_type": "notes"
    }
   },
   "outputs": [],
   "source": [
    "print(3 ** 57, \"le nombre de chiffres est\", len(str(3 ** 57)))\n",
    "s = input(\"Entrer un nombre entier\\n\")\n",
    "print(int(s) % 2 == 0)\n",
    "#pour afficher le chiffre, il faut se débrouiller avec ce qu'on connait...\n",
    "long = len(s)\n",
    "print(int(s) // 10 ** (long - 1))\n",
    "#la bonne solution (qu'on verra plus tard avec les listes)\n",
    "print(s[0])"
   ]
  },
  {
   "cell_type": "code",
   "execution_count": null,
   "metadata": {
    "slideshow": {
     "slide_type": "fragment"
    }
   },
   "outputs": [],
   "source": []
  }
 ],
 "metadata": {
  "celltoolbar": "Diaporama",
  "kernelspec": {
   "display_name": "Python 3",
   "language": "python",
   "name": "python3"
  },
  "language_info": {
   "codemirror_mode": {
    "name": "ipython",
    "version": 3
   },
   "file_extension": ".py",
   "mimetype": "text/x-python",
   "name": "python",
   "nbconvert_exporter": "python",
   "pygments_lexer": "ipython3",
   "version": "3.8.3"
  }
 },
 "nbformat": 4,
 "nbformat_minor": 1
}
