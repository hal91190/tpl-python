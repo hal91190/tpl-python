{
 "cells": [
  {
   "cell_type": "markdown",
   "metadata": {},
   "source": [
    "# TD 5: Interface graphique\n",
    "\n",
    "\n",
    "Ce [site](http://tkinter.fdex.eu/index.html) recense les méthodes utilisables dans les différents widgets, et permet de retrouver rapidement des informations à leur sujet.\n"
   ]
  },
  {
   "cell_type": "markdown",
   "metadata": {},
   "source": [
    "## 1. Prise en main\n",
    "\n",
    "---\n",
    "\n",
    "1. Recopier le contenu du fichier `exemple03.py` depuis le répertoire `examples\\gui` du projet `L1-PYHTON` dans le fichier `debut.py`.\n",
    "\n",
    "2. Exécuter ce programme et comprendre ce qu'il fait.\n",
    "\n",
    "3. Retirer la condition \n",
    "```python\n",
    "if __name__ == '__main__':\n",
    "```\n",
    "et remplacer la fonction  `canvas.pack()` par la fonction de positionnement des widgets  que l'on a vue en cours. Puis testez votre programme.\n",
    "\n",
    "4. Importer la librairie `tkinter` avec l'instruction\n",
    "```python\n",
    "import tkinter as tk\n",
    "```\n",
    "au lieu de \n",
    "```python\n",
    "from tkinter import *\n",
    "```\n",
    "et modifier le programme pour qu'il fonctionne avec cette nouvelle manière de faire.\n",
    "\n",
    "5. Modifier le programme pour que la ligne qui s'affiche devienne verticale tout en conservant les cercles à ses extrémités.\n"
   ]
  },
  {
   "cell_type": "markdown",
   "metadata": {},
   "source": [
    "---\n",
    "\n",
    "## 2. Dessins aléatoires\n",
    "\n",
    "Cet exercice est à traiter dans un script `dessin.py`.\n",
    "\n",
    "\n",
    "1. Créer la fenêtre graphique correspondant à la figure suivante:\n",
    "\n",
    "![](images/mon_dessin.png)\n",
    "\n",
    "\n",
    "c'est-à-dire que la fenêtre est composée de:\n",
    "* 4 widgets Button\n",
    "* 1 widget Canvas dont le fond est noir\n",
    "* titre à la fenêtre\n",
    "\n",
    "**Indication:** pour placer un widget sur plusieurs lignes (resp. colonnes), il faut utiliser le paramètre `rowspan` (resp. `columnspan`).\n"
   ]
  },
  {
   "cell_type": "markdown",
   "metadata": {},
   "source": [
    "2. Modifier le style par défaut des boutons, par exemple, en modifiant les couleurs, en ajoutant des marges, en changeant la taille de la police. Pour savoir ce qu'il est possible de faire, consultez le site indiqué au début du sujet."
   ]
  },
  {
   "cell_type": "markdown",
   "metadata": {},
   "source": [
    "3. Dans les paramètres de création du canevas, chercher comment augmenter l'épaisseur du bord du widget, et comment le mettre en relief. Puis faites le."
   ]
  },
  {
   "cell_type": "markdown",
   "metadata": {},
   "source": [
    "4. Ajouter un lien (paramètre `command` du widget Button) entre le bouton `Cercle` et une fonction qui affiche un disque de diamètre 100 en bleu à un endroit choisi au hasard dans le canevas. Le cercle doit être inclu intégralement dans le canevas."
   ]
  },
  {
   "cell_type": "markdown",
   "metadata": {},
   "source": [
    "5. Faites pareil pour le bouton `Carré` qui doit afficher un carré rouge de côté 100, et puis pour `Croix` qui doit afficher une croix jaune inscrite dans un carré de côté 100 (les carrés dont on parle ont leur cotés horizontaux et verticaux)."
   ]
  },
  {
   "cell_type": "markdown",
   "metadata": {},
   "source": [
    "6. Faire en sorte que le bouton `Choisir une couleur` demande une couleur à l'utilisateur dans le terminal. Ensuite, les objets qui s'affichent doivent être de cette couleur, qui peut être modifiée par l'utilisateur autant de fois qu'il le souhaite. Tant que l'utilisateur n'a pas choisi de couleur, la couleur est bleue. On rappelle les couleurs prédéfinies: white, black, red, green, blue, cyan, yellow."
   ]
  },
  {
   "cell_type": "markdown",
   "metadata": {},
   "source": [
    "## 3. Cible en couleur\n",
    "\n",
    "---\n",
    "\n",
    "Dans un fichier `cible.py`, écrire le programme qui affiche la figure suivante:\n",
    "\n",
    "![](images/cible.png)\n",
    "\n",
    "Dans l'ordre les couleurs sont blue, green, black, yellow, magenta, red.\n",
    "Vous choisissez la taille d'image et le nombre de cercles que vous voulez. Mais le programme doit afficher une telle figure pour n'importe quelles valeurs choisies.\n"
   ]
  },
  {
   "cell_type": "markdown",
   "metadata": {},
   "source": [
    "## 4. Couleurs\n",
    "\n",
    "---\n",
    "Les questions qui suivent sont à traiter dans un fichier `couleurs.py`.\n",
    "\n",
    "On rappelle que les couleurs sont codées par leur 3 composantes rouge, vert et bleu auxquelles on associe des valeurs comprises entre 0 et 255. La fonction suivante retourne une couleur dans le format attendu par Python à partir de ces 3 composantes.\n"
   ]
  },
  {
   "cell_type": "code",
   "execution_count": null,
   "metadata": {},
   "outputs": [],
   "source": [
    "def get_color(r, g, b):\n",
    "    \"\"\" Retourne une couleur à partir de ses composantes r, g, b entre 0 et 255\"\"\"\n",
    "    return '#{:02x}{:02x}{:02x}'.format(r, g, b)"
   ]
  },
  {
   "cell_type": "markdown",
   "metadata": {},
   "source": [
    "Cette fonction est à recopier au début de votre programme pour pouvoir l'utiliser ensuite.\n",
    "\n",
    "1. Créer la fenêtre graphique suivante (on demande juste de conserver la disposition des widgets les uns par rapport aux autres):\n",
    "\n",
    "![](images/fenetre_couleur.png)\n",
    "\n",
    "La taille du canvas doit être 256x256.\n",
    "\n",
    "2. Ecrire la fonction\n",
    "\n",
    "```python\n",
    "def draw_pixel(i, j, color)\n",
    "```\n",
    "qui colorie le pixel `(i, j)` du canvas de la couleur color. La tester en allumant en blanc le pixel du milieu du canevas.\n",
    "\n",
    "3. Ecrire la fonction \n",
    "```python\n",
    "def ecran_aleatoire()\n",
    "```\n",
    "qui est appelée par le bouton `aleatoire` et qui remplit le canevas de manière à ce que chaque pixel soit d'une couleur choisie au hasard.\n",
    "\n",
    "3. Ecrire la fonction \n",
    "```python\n",
    "def degrade_gris()\n",
    "```\n",
    "qui affiche le dégradé de gris comme sur la figure suivante quand on clique sur le bouton correspondant:\n",
    "\n",
    "![](images/degrade_gris.png)\n",
    "\n",
    "4. Ecrire la fonction \n",
    "```python\n",
    "def degrade_2D()\n",
    "```\n",
    "qui affiche le dégradé de rouge et bleu comme sur la figure suivante quand on clique sur le bouton correspondant:\n",
    "\n",
    "![](images/degrade_rouge_bleu.png)\n",
    "\n",
    "\n",
    "\n"
   ]
  },
  {
   "cell_type": "markdown",
   "metadata": {},
   "source": [
    "## 5. Fonction undo\n",
    "\n",
    "---\n",
    "\n",
    "Reprendre le programme de l'exercice 2. On va le compléter en ajoutant la possibilité d'annuler des dessins qui ont été faits dans l'ordre inverse de leur création. Cette fonctionnalité est souvent présente dans les logiciels d'édition de texte ou d'image, par exemple dans VSCode dans le menu \"Edit\" de la barre de menu, ou bien en tapant CTRL+Z. Pour faire cela, on va utiliser une liste contenant tous les objets dessinés, et il suffira de les supprimer à partir de la fin de la liste.\n",
    "\n",
    "\n",
    "1. Dans le programme de l'exercice 2, ajouter un bouton \"Undo\" à côté du bouton \"Choisir une couleur\". Ce bouton doit être lié à la fonction `def undo()` que l'on écrira plus tard.\n",
    "\n",
    "2. Ajouter une variable globale appelée `objets`. Elle doit contenir une liste qui doit être initialisée vide. Ensuite, ajouter le code qui,  à chaque création d'objet (cercle, carré ou croix), l'ajoute à la liste. \n",
    "\n",
    "3. Ecrivez maintenant la fonction `undo()` en utilisant la méthode `.delete()` du canevas, et tester votre fonction.\n",
    "\n",
    "4. Faire en sorte que, si l'on clique sur \"Undo\" alors que le dessin est vide, aucune erreur n'est générée.\n",
    "\n",
    "5. Les croix posent un problème car il faut cliquer 2 fois sur \"Undo\" pour supprimer les 2 lignes. Afin d'améliorer notre fonction `undo()`, récupérer le type de l'objet à supprimer avec la méthode `.type(objet)` du canevas. Cette méthode retourne `\"line\"` si l'objet passé en argument est une ligne. Puis utiliser cette information pour ne pas avoir à cliquer 2 fois pour supprimer les croix. \n",
    "\n",
    "**Remarque:** en fait, il vaudrait mieux utiliser la possibilité d'utiliser des \"tags\" sur les objets pour pouvoir grouper les deux lignes d'une croix dans le même tag, et les supprimer ensemble.\n",
    "\n",
    "\n"
   ]
  },
  {
   "cell_type": "markdown",
   "metadata": {},
   "source": [
    "## 6. Avec des clics\n",
    "\n",
    "---\n",
    "\n",
    "Traiter cet exercice dans un fichier `clic.py`.\n",
    "\n",
    "1. Dans le fichier `clic1.py`, créer une fenêtre graphique qui contient un canevas de taille 500x500 et de couleur noire. Quand on clique sur le canevas, un pixel de couleur rouge s'affiche à l'endroit où l'on a cliqué.\n",
    "\n",
    "\n"
   ]
  },
  {
   "cell_type": "markdown",
   "metadata": {},
   "source": [
    "2. Copier le contenu du fichier `clic1.py` dans le fichier `clic2.py`. Modifier le fichier `clic2.py` de manière à faire les choses suivantes: \n",
    "    * afficher une ligne verticale en blanc qui sépare l'écran en 2 parties égales\n",
    "    * si l'utilisateur clique à gauche de la ligne afficher un cercle bleu et s'il est à droite, afficher un cercle rouge. Dans les deux cas, le cercle sera centré là où l'utilisateur a cliqué. Le rayon du cercle est 50."
   ]
  },
  {
   "cell_type": "markdown",
   "metadata": {},
   "source": [
    "3. Copier le contenu du fichier `clic2.py` dans le fichier `clic3.py`. Modifier le fichier `clic3.py` de manière à faire les choses suivantes: \n",
    "    * afficher une ligne verticale en blanc qui sépare l'écran en 2 parties égales\n",
    "    * à chaque fois que l'utilisateur a fait 2 clics, s'ils sont du même côté alors afficher une ligne bleue reliant les deux points où l'utilisateur a cliqué, sinon une ligne rouge. "
   ]
  },
  {
   "cell_type": "markdown",
   "metadata": {},
   "source": [
    "4. Copier le contenu du fichier `clic3.py` dans le fichier `clic4.py`. Modifier le fichier `clic4.py` de manière à faire les choses suivantes: \n",
    "    * dessiner un carré vide au centre de l'écran (taille et couleur au choix au choix)\n",
    "    * à chaque clic, le carré se remplit et se vide alternativement\n",
    "    * au bout de 10 clics, la fenêtre se ferme (utiliser la fonction `racine.destroy()`)"
   ]
  },
  {
   "cell_type": "markdown",
   "metadata": {},
   "source": [
    "5. Copier le contenu du fichier `clic4.py` dans le fichier `clic5.py`. Modifier le fichier `clic5.py` de manière à faire les choses suivantes: \n",
    "    * pour les 8 premiers clics de l'utilisateur, on affiche un cercle rouge centré sur le point cliqué par l'utilisateur, et de rayon 50\n",
    "    * au neuvième clic, tous les cercles deviennent jaunes\n",
    "    * au dizième clic, tous les cercles disparaissent et on recommence au début"
   ]
  },
  {
   "cell_type": "raw",
   "metadata": {},
   "source": [
    "Ecrire l'expression qui donne l'avant-dernier chiffre du nombre référencé par la variable `a`."
   ]
  },
  {
   "cell_type": "raw",
   "metadata": {},
   "source": [
    "Ecrire l'expression qui donne le dernier chiffre du nombre référencé par la variable `a`."
   ]
  }
 ],
 "metadata": {
  "kernelspec": {
   "display_name": "Python 3",
   "language": "python",
   "name": "python3"
  },
  "language_info": {
   "codemirror_mode": {
    "name": "ipython",
    "version": 3
   },
   "file_extension": ".py",
   "mimetype": "text/x-python",
   "name": "python",
   "nbconvert_exporter": "python",
   "pygments_lexer": "ipython3",
   "version": "3.8.3"
  }
 },
 "nbformat": 4,
 "nbformat_minor": 1
}
